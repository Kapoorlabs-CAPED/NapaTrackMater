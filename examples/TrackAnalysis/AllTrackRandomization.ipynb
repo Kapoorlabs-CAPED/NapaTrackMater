{
 "cells": [
  {
   "cell_type": "code",
   "execution_count": 1,
   "metadata": {},
   "outputs": [],
   "source": [
    "import sys\n",
    "sys.path.append('../')\n",
    "import numpy as np\n",
    "import os\n",
    "from tifffile import imread, imwrite\n",
    "import matplotlib.pyplot as plt\n",
    "import napari\n",
    "import napatrackmater.bTrackmate as TM"
   ]
  },
  {
   "cell_type": "code",
   "execution_count": 2,
   "metadata": {},
   "outputs": [],
   "source": [
    "#Trackmate writes an XML file of tracks, we use it as input\n",
    "xml_path = '/Users/aimachine/MariTests/spot_visualization_test/t1_20.xml' \n",
    "#Path to Segmentation image for extracting any track information from labels \n",
    "LabelImage = '/Users/aimachine/MariTests/spot_visualization_test/t1_20.tif'#Path to Raw image to display the tracks on (optional) else set it to None\n",
    "RawImage = '/Users/aimachine/MariTests/spot_visualization_test/t1_20.tif'\n",
    "savedir = '/Users/aimachine/MariTests/spot_visualization_test/Results/'\n",
    "MaskImage = None\n",
    "nbins = 10"
   ]
  },
  {
   "cell_type": "code",
   "execution_count": 3,
   "metadata": {
    "scrolled": false
   },
   "outputs": [],
   "source": [
    "all_track_properties, Mask, calibration = TM.import_TM_XML(xml_path, RawImage, LabelImage,MaskImage)\n"
   ]
  },
  {
   "cell_type": "markdown",
   "metadata": {},
   "source": [
    "# Visualize All tracks"
   ]
  },
  {
   "cell_type": "code",
   "execution_count": 4,
   "metadata": {
    "scrolled": false
   },
   "outputs": [
    {
     "ename": "TypeError",
     "evalue": "ShowAllTracksGauss() got an unexpected keyword argument 'nbins'",
     "output_type": "error",
     "traceback": [
      "\u001b[0;31m---------------------------------------------------------------------------\u001b[0m",
      "\u001b[0;31mTypeError\u001b[0m                                 Traceback (most recent call last)",
      "\u001b[0;32m/var/folders/36/p232bry50m1f42ncbjk74j_c0000gn/T/ipykernel_47715/1428857643.py\u001b[0m in \u001b[0;36m<module>\u001b[0;34m\u001b[0m\n\u001b[0;32m----> 1\u001b[0;31m \u001b[0mTM\u001b[0m\u001b[0;34m.\u001b[0m\u001b[0mShowAllTracksGauss\u001b[0m\u001b[0;34m(\u001b[0m\u001b[0mRawImage\u001b[0m\u001b[0;34m,\u001b[0m \u001b[0mLabelImage\u001b[0m\u001b[0;34m,\u001b[0m \u001b[0mMask\u001b[0m\u001b[0;34m,\u001b[0m\u001b[0msavedir\u001b[0m\u001b[0;34m,\u001b[0m \u001b[0mcalibration\u001b[0m\u001b[0;34m,\u001b[0m\u001b[0mall_track_properties\u001b[0m\u001b[0;34m,\u001b[0m \u001b[0mnbins\u001b[0m \u001b[0;34m=\u001b[0m \u001b[0mnbins\u001b[0m\u001b[0;34m)\u001b[0m\u001b[0;34m\u001b[0m\u001b[0;34m\u001b[0m\u001b[0m\n\u001b[0m",
      "\u001b[0;31mTypeError\u001b[0m: ShowAllTracksGauss() got an unexpected keyword argument 'nbins'"
     ]
    }
   ],
   "source": [
    "TM.ShowAllTracksGauss(RawImage, LabelImage, Mask,savedir, calibration,all_track_properties, nbins = nbins)"
   ]
  },
  {
   "cell_type": "code",
   "execution_count": null,
   "metadata": {},
   "outputs": [],
   "source": []
  }
 ],
 "metadata": {
  "kernelspec": {
   "display_name": "Python [conda env:testenv] *",
   "language": "python",
   "name": "conda-env-testenv-py"
  },
  "language_info": {
   "codemirror_mode": {
    "name": "ipython",
    "version": 3
   },
   "file_extension": ".py",
   "mimetype": "text/x-python",
   "name": "python",
   "nbconvert_exporter": "python",
   "pygments_lexer": "ipython3",
   "version": "3.9.0"
  }
 },
 "nbformat": 4,
 "nbformat_minor": 2
}
