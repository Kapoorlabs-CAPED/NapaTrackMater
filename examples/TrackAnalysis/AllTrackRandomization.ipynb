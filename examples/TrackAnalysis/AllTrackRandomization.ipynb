{
 "cells": [
  {
   "cell_type": "code",
   "execution_count": 1,
   "metadata": {},
   "outputs": [],
   "source": [
    "import sys\n",
    "sys.path.append('../')\n",
    "import numpy as np\n",
    "import os\n",
    "from tifffile import imread, imwrite\n",
    "import matplotlib.pyplot as plt\n",
    "import napari\n",
    "import napatrackmater.bTrackmate as TM"
   ]
  },
  {
   "cell_type": "code",
   "execution_count": 2,
   "metadata": {},
   "outputs": [],
   "source": [
    "#Trackmate writes an XML file of tracks, we use it as input\n",
    "xml_path = '/Users/aimachine/MariTests/spot_visualization_test/t1_20.xml' \n",
    "#Path to Segmentation image for extracting any track information from labels \n",
    "LabelImage = '/Users/aimachine/MariTests/spot_visualization_test/t1_20.tif'#Path to Raw image to display the tracks on (optional) else set it to None\n",
    "RawImage = '/Users/aimachine/MariTests/spot_visualization_test/t1_20.tif'\n",
    "savedir = '/Users/aimachine/MariTests/spot_visualization_test/Results/'\n",
    "MaskImage = None\n",
    "nbins = 10"
   ]
  },
  {
   "cell_type": "code",
   "execution_count": 3,
   "metadata": {
    "scrolled": false
   },
   "outputs": [],
   "source": [
    "all_track_properties, Mask, calibration = TM.import_TM_XML(xml_path, RawImage, LabelImage,MaskImage)\n"
   ]
  },
  {
   "cell_type": "markdown",
   "metadata": {},
   "source": [
    "# Visualize All tracks"
   ]
  },
  {
   "cell_type": "code",
   "execution_count": 4,
   "metadata": {
    "scrolled": false
   },
   "outputs": [
    {
     "name": "stdout",
     "output_type": "stream",
     "text": [
      "Reading Image\n",
      "Reading Seg Image\n",
      "Building Napari in augenblick\n",
      "Building Napari GUI\n"
     ]
    },
    {
     "name": "stderr",
     "output_type": "stream",
     "text": [
      "ERROR:tornado.general:Uncaught exception in ZMQStream callback\n",
      "Traceback (most recent call last):\n",
      "  File \"/Users/aimachine/opt/anaconda3/envs/testenv/lib/python3.9/site-packages/zmq/eventloop/zmqstream.py\", line 431, in _run_callback\n",
      "    callback(*args, **kwargs)\n",
      "  File \"/Users/aimachine/opt/anaconda3/envs/testenv/lib/python3.9/site-packages/jupyter_client/threaded.py\", line 121, in _handle_recv\n",
      "    msg_list = self.ioloop._asyncio_event_loop.run_until_complete(get_msg(future_msg))\n",
      "  File \"/Users/aimachine/opt/anaconda3/envs/testenv/lib/python3.9/asyncio/base_events.py\", line 618, in run_until_complete\n",
      "    self._check_running()\n",
      "  File \"/Users/aimachine/opt/anaconda3/envs/testenv/lib/python3.9/asyncio/base_events.py\", line 580, in _check_running\n",
      "    raise RuntimeError(\n",
      "RuntimeError: Cannot run the event loop while another loop is running\n",
      "ERROR:tornado.general:Uncaught exception in zmqstream callback\n",
      "Traceback (most recent call last):\n",
      "  File \"/Users/aimachine/opt/anaconda3/envs/testenv/lib/python3.9/site-packages/zmq/eventloop/zmqstream.py\", line 448, in _handle_events\n",
      "    self._handle_recv()\n",
      "  File \"/Users/aimachine/opt/anaconda3/envs/testenv/lib/python3.9/site-packages/zmq/eventloop/zmqstream.py\", line 477, in _handle_recv\n",
      "    self._run_callback(callback, msg)\n",
      "  File \"/Users/aimachine/opt/anaconda3/envs/testenv/lib/python3.9/site-packages/zmq/eventloop/zmqstream.py\", line 431, in _run_callback\n",
      "    callback(*args, **kwargs)\n",
      "  File \"/Users/aimachine/opt/anaconda3/envs/testenv/lib/python3.9/site-packages/jupyter_client/threaded.py\", line 121, in _handle_recv\n",
      "    msg_list = self.ioloop._asyncio_event_loop.run_until_complete(get_msg(future_msg))\n",
      "  File \"/Users/aimachine/opt/anaconda3/envs/testenv/lib/python3.9/asyncio/base_events.py\", line 618, in run_until_complete\n",
      "    self._check_running()\n",
      "  File \"/Users/aimachine/opt/anaconda3/envs/testenv/lib/python3.9/asyncio/base_events.py\", line 580, in _check_running\n",
      "    raise RuntimeError(\n",
      "RuntimeError: Cannot run the event loop while another loop is running\n",
      "Exception in callback BaseAsyncIOLoop._handle_events(104, 1)\n",
      "handle: <Handle BaseAsyncIOLoop._handle_events(104, 1)>\n",
      "Traceback (most recent call last):\n",
      "  File \"/Users/aimachine/opt/anaconda3/envs/testenv/lib/python3.9/asyncio/events.py\", line 80, in _run\n",
      "    self._context.run(self._callback, *self._args)\n",
      "  File \"/Users/aimachine/opt/anaconda3/envs/testenv/lib/python3.9/site-packages/tornado/platform/asyncio.py\", line 189, in _handle_events\n",
      "    handler_func(fileobj, events)\n",
      "  File \"/Users/aimachine/opt/anaconda3/envs/testenv/lib/python3.9/site-packages/zmq/eventloop/zmqstream.py\", line 448, in _handle_events\n",
      "    self._handle_recv()\n",
      "  File \"/Users/aimachine/opt/anaconda3/envs/testenv/lib/python3.9/site-packages/zmq/eventloop/zmqstream.py\", line 477, in _handle_recv\n",
      "    self._run_callback(callback, msg)\n",
      "  File \"/Users/aimachine/opt/anaconda3/envs/testenv/lib/python3.9/site-packages/zmq/eventloop/zmqstream.py\", line 431, in _run_callback\n",
      "    callback(*args, **kwargs)\n",
      "  File \"/Users/aimachine/opt/anaconda3/envs/testenv/lib/python3.9/site-packages/jupyter_client/threaded.py\", line 121, in _handle_recv\n",
      "    msg_list = self.ioloop._asyncio_event_loop.run_until_complete(get_msg(future_msg))\n",
      "  File \"/Users/aimachine/opt/anaconda3/envs/testenv/lib/python3.9/asyncio/base_events.py\", line 618, in run_until_complete\n",
      "    self._check_running()\n",
      "  File \"/Users/aimachine/opt/anaconda3/envs/testenv/lib/python3.9/asyncio/base_events.py\", line 580, in _check_running\n",
      "    raise RuntimeError(\n",
      "RuntimeError: Cannot run the event loop while another loop is running\n"
     ]
    },
    {
     "name": "stdout",
     "output_type": "stream",
     "text": [
      "Adding widgets\n"
     ]
    },
    {
     "name": "stderr",
     "output_type": "stream",
     "text": [
      "/Users/aimachine/opt/anaconda3/envs/testenv/lib/python3.9/inspect.py:2927: RuntimeWarning: coroutine 'get_msg' was never awaited\n",
      "  arg_val = next(arg_vals)\n",
      "RuntimeWarning: Enable tracemalloc to get the object allocation traceback\n",
      "/Users/aimachine/opt/anaconda3/envs/testenv/lib/python3.9/site-packages/napari/_vispy/vispy_image_layer.py:224: UserWarning: data shape (17, 2439, 2439) exceeds GL_MAX_TEXTURE_SIZE 2048 in at least one axis and will be downsampled. Rendering is currently in 3D mode.\n",
      "  warnings.warn(\n",
      "/Users/aimachine/opt/anaconda3/envs/testenv/lib/python3.9/site-packages/napari/_vispy/vispy_image_layer.py:224: UserWarning: data shape (17, 2439, 2439) exceeds GL_MAX_TEXTURE_SIZE 2048 in at least one axis and will be downsampled. Rendering is currently in 3D mode.\n",
      "  warnings.warn(\n",
      "100%|██████████████████████████████████████████████████████████████████████████████████████████████████████████████████████████████████████████████████████████████████████| 655/655 [00:00<00:00, 275332.64it/s]\n"
     ]
    },
    {
     "name": "stdout",
     "output_type": "stream",
     "text": [
      "About to open Napari\n"
     ]
    },
    {
     "data": {
      "image/png": "[encoded data removed]",
      "text/plain": [
       "<Figure size 400x474 with 6 Axes>"
      ]
     },
     "metadata": {
      "needs_background": "light"
     },
     "output_type": "display_data"
    }
   ],
   "source": [
    "TM.ShowAllTracksGauss(RawImage, LabelImage, Mask,savedir, calibration,all_track_properties, nbins = nbins)"
   ]
  },
  {
   "cell_type": "code",
   "execution_count": null,
   "metadata": {},
   "outputs": [],
   "source": []
  }
 ],
 "metadata": {
  "kernelspec": {
   "display_name": "Python [conda env:testenv] *",
   "language": "python",
   "name": "conda-env-testenv-py"
  },
  "language_info": {
   "codemirror_mode": {
    "name": "ipython",
    "version": 3
   },
   "file_extension": ".py",
   "mimetype": "text/x-python",
   "name": "python",
   "nbconvert_exporter": "python",
   "pygments_lexer": "ipython3",
   "version": "3.9.0"
  }
 },
 "nbformat": 4,
 "nbformat_minor": 2
}
