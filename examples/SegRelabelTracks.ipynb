{
 "cells": [
  {
   "cell_type": "code",
   "execution_count": null,
   "metadata": {},
   "outputs": [],
   "source": [
    "import sys\n",
    "sys.path.append('../')\n",
    "import numpy as np\n",
    "import os\n",
    "from tifffile import imread, imwrite\n",
    "import matplotlib.pyplot as plt\n",
    "import napari\n",
    "import mnapatrackmater.bTrackmate as TM"
   ]
  },
  {
   "cell_type": "code",
   "execution_count": null,
   "metadata": {},
   "outputs": [],
   "source": [
    "#Trackmate writes an XML file of tracks, we use it as input\n",
    "xml_path = '/media/sancere/Newton_Volume_1/ClaudiaAnalysis/Track_Analysis/105E_Day6/Analysis/Results/DUP_105E_RawImage.xml' \n",
    "#Path to Segmentation image for extracting any track information from labels \n",
    "LabelImage = '/media/sancere/Newton_Volume_1/ClaudiaAnalysis/Track_Analysis/105E_Day6/Analysis/Seg/105E_Day6_SmartSeedsMask.tif'\n",
    "Savedir = '/media/sancere/Newton_Volume_1/ClaudiaAnalysis/Track_Analysis/105E_Day6/Analysis/Seg/'\n",
    "Name = os.path.basename(os.path.splitext(LabelImage)[0])"
   ]
  },
  {
   "cell_type": "code",
   "execution_count": null,
   "metadata": {
    "scrolled": false
   },
   "outputs": [],
   "source": [
    "NewSegImage = TM.import_TM_XML_Relabel(xml_path,LabelImage)\n"
   ]
  },
  {
   "cell_type": "markdown",
   "metadata": {},
   "source": [
    "# Resave Segmentation Image"
   ]
  },
  {
   "cell_type": "code",
   "execution_count": null,
   "metadata": {
    "scrolled": true
   },
   "outputs": [],
   "source": [
    "\n",
    "imwrite(Savedir + 'TrackSeg' + Name + '.tif', NewSegImage.astype('uint16') )"
   ]
  },
  {
   "cell_type": "code",
   "execution_count": null,
   "metadata": {},
   "outputs": [],
   "source": []
  }
 ],
 "metadata": {
  "kernelspec": {
   "display_name": "Python [conda env:testenv] *",
   "language": "python",
   "name": "conda-env-testenv-py"
  },
  "language_info": {
   "codemirror_mode": {
    "name": "ipython",
    "version": 3
   },
   "file_extension": ".py",
   "mimetype": "text/x-python",
   "name": "python",
   "nbconvert_exporter": "python",
   "pygments_lexer": "ipython3",
   "version": "3.9.0"
  }
 },
 "nbformat": 4,
 "nbformat_minor": 2
}
