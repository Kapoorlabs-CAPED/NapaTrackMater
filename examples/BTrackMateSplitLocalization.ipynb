{
 "cells": [
  {
   "cell_type": "markdown",
   "metadata": {},
   "source": [
    "# Checkpoint Maker for Fiji bTrackmate\n",
    "\n",
    "Create csv file of cell attributes for bTM \n",
    "\n",
    "The Fiji csv file has the headers:\n",
    "\n",
    "T X Y Z Label Perimeter Volume Intensity ExtentX ExtentY ExtentZ\n",
    "\n",
    "These columns are read in by bTrackmate csv reader and it creates\n",
    "\n",
    "TM SpotCollection for tracking\n"
   ]
  },
  {
   "cell_type": "code",
   "execution_count": 1,
   "metadata": {},
   "outputs": [],
   "source": [
    "from pathlib import Path\n",
    "import os\n",
    "from tifffile import imread, imwrite\n",
    "import napatrackmater\n",
    "from napatrackmater import bTrackmate\n",
    "import glob\n",
    "import numpy as np\n",
    "from natsort import natsorted"
   ]
  },
  {
   "cell_type": "markdown",
   "metadata": {},
   "source": [
    "Combine the split timepoints into a single segmentation image"
   ]
  },
  {
   "cell_type": "code",
   "execution_count": 2,
   "metadata": {
    "scrolled": false
   },
   "outputs": [
    {
     "name": "stdout",
     "output_type": "stream",
     "text": [
      "152\n",
      "20210912_143G_N1TOM_day5_region3_each10min_zoom07_FINAL_GFP0\n",
      "20210912_143G_N1TOM_day5_region3_each10min_zoom07_FINAL_GFP1\n",
      "20210912_143G_N1TOM_day5_region3_each10min_zoom07_FINAL_GFP2\n",
      "20210912_143G_N1TOM_day5_region3_each10min_zoom07_FINAL_GFP3\n",
      "20210912_143G_N1TOM_day5_region3_each10min_zoom07_FINAL_GFP4\n",
      "20210912_143G_N1TOM_day5_region3_each10min_zoom07_FINAL_GFP5\n",
      "20210912_143G_N1TOM_day5_region3_each10min_zoom07_FINAL_GFP6\n",
      "20210912_143G_N1TOM_day5_region3_each10min_zoom07_FINAL_GFP7\n",
      "20210912_143G_N1TOM_day5_region3_each10min_zoom07_FINAL_GFP8\n",
      "20210912_143G_N1TOM_day5_region3_each10min_zoom07_FINAL_GFP9\n",
      "20210912_143G_N1TOM_day5_region3_each10min_zoom07_FINAL_GFP10\n",
      "20210912_143G_N1TOM_day5_region3_each10min_zoom07_FINAL_GFP11\n",
      "20210912_143G_N1TOM_day5_region3_each10min_zoom07_FINAL_GFP12\n",
      "20210912_143G_N1TOM_day5_region3_each10min_zoom07_FINAL_GFP13\n",
      "20210912_143G_N1TOM_day5_region3_each10min_zoom07_FINAL_GFP14\n",
      "20210912_143G_N1TOM_day5_region3_each10min_zoom07_FINAL_GFP15\n",
      "20210912_143G_N1TOM_day5_region3_each10min_zoom07_FINAL_GFP16\n",
      "20210912_143G_N1TOM_day5_region3_each10min_zoom07_FINAL_GFP17\n",
      "20210912_143G_N1TOM_day5_region3_each10min_zoom07_FINAL_GFP18\n",
      "20210912_143G_N1TOM_day5_region3_each10min_zoom07_FINAL_GFP19\n",
      "20210912_143G_N1TOM_day5_region3_each10min_zoom07_FINAL_GFP20\n",
      "20210912_143G_N1TOM_day5_region3_each10min_zoom07_FINAL_GFP21\n",
      "20210912_143G_N1TOM_day5_region3_each10min_zoom07_FINAL_GFP22\n",
      "20210912_143G_N1TOM_day5_region3_each10min_zoom07_FINAL_GFP23\n",
      "20210912_143G_N1TOM_day5_region3_each10min_zoom07_FINAL_GFP24\n",
      "20210912_143G_N1TOM_day5_region3_each10min_zoom07_FINAL_GFP25\n",
      "20210912_143G_N1TOM_day5_region3_each10min_zoom07_FINAL_GFP26\n",
      "20210912_143G_N1TOM_day5_region3_each10min_zoom07_FINAL_GFP27\n",
      "20210912_143G_N1TOM_day5_region3_each10min_zoom07_FINAL_GFP28\n",
      "20210912_143G_N1TOM_day5_region3_each10min_zoom07_FINAL_GFP29\n",
      "20210912_143G_N1TOM_day5_region3_each10min_zoom07_FINAL_GFP30\n",
      "20210912_143G_N1TOM_day5_region3_each10min_zoom07_FINAL_GFP31\n",
      "20210912_143G_N1TOM_day5_region3_each10min_zoom07_FINAL_GFP32\n",
      "20210912_143G_N1TOM_day5_region3_each10min_zoom07_FINAL_GFP33\n",
      "20210912_143G_N1TOM_day5_region3_each10min_zoom07_FINAL_GFP34\n",
      "20210912_143G_N1TOM_day5_region3_each10min_zoom07_FINAL_GFP35\n",
      "20210912_143G_N1TOM_day5_region3_each10min_zoom07_FINAL_GFP36\n",
      "20210912_143G_N1TOM_day5_region3_each10min_zoom07_FINAL_GFP37\n",
      "20210912_143G_N1TOM_day5_region3_each10min_zoom07_FINAL_GFP38\n",
      "20210912_143G_N1TOM_day5_region3_each10min_zoom07_FINAL_GFP39\n",
      "20210912_143G_N1TOM_day5_region3_each10min_zoom07_FINAL_GFP40\n",
      "20210912_143G_N1TOM_day5_region3_each10min_zoom07_FINAL_GFP41\n",
      "20210912_143G_N1TOM_day5_region3_each10min_zoom07_FINAL_GFP42\n",
      "20210912_143G_N1TOM_day5_region3_each10min_zoom07_FINAL_GFP43\n",
      "20210912_143G_N1TOM_day5_region3_each10min_zoom07_FINAL_GFP44\n",
      "20210912_143G_N1TOM_day5_region3_each10min_zoom07_FINAL_GFP45\n",
      "20210912_143G_N1TOM_day5_region3_each10min_zoom07_FINAL_GFP46\n",
      "20210912_143G_N1TOM_day5_region3_each10min_zoom07_FINAL_GFP47\n",
      "20210912_143G_N1TOM_day5_region3_each10min_zoom07_FINAL_GFP48\n",
      "20210912_143G_N1TOM_day5_region3_each10min_zoom07_FINAL_GFP49\n",
      "20210912_143G_N1TOM_day5_region3_each10min_zoom07_FINAL_GFP50\n",
      "20210912_143G_N1TOM_day5_region3_each10min_zoom07_FINAL_GFP51\n",
      "20210912_143G_N1TOM_day5_region3_each10min_zoom07_FINAL_GFP52\n",
      "20210912_143G_N1TOM_day5_region3_each10min_zoom07_FINAL_GFP53\n",
      "20210912_143G_N1TOM_day5_region3_each10min_zoom07_FINAL_GFP54\n",
      "20210912_143G_N1TOM_day5_region3_each10min_zoom07_FINAL_GFP55\n",
      "20210912_143G_N1TOM_day5_region3_each10min_zoom07_FINAL_GFP56\n",
      "20210912_143G_N1TOM_day5_region3_each10min_zoom07_FINAL_GFP57\n",
      "20210912_143G_N1TOM_day5_region3_each10min_zoom07_FINAL_GFP58\n",
      "20210912_143G_N1TOM_day5_region3_each10min_zoom07_FINAL_GFP59\n",
      "20210912_143G_N1TOM_day5_region3_each10min_zoom07_FINAL_GFP60\n",
      "20210912_143G_N1TOM_day5_region3_each10min_zoom07_FINAL_GFP61\n",
      "20210912_143G_N1TOM_day5_region3_each10min_zoom07_FINAL_GFP62\n",
      "20210912_143G_N1TOM_day5_region3_each10min_zoom07_FINAL_GFP63\n",
      "20210912_143G_N1TOM_day5_region3_each10min_zoom07_FINAL_GFP64\n",
      "20210912_143G_N1TOM_day5_region3_each10min_zoom07_FINAL_GFP65\n",
      "20210912_143G_N1TOM_day5_region3_each10min_zoom07_FINAL_GFP66\n",
      "20210912_143G_N1TOM_day5_region3_each10min_zoom07_FINAL_GFP67\n",
      "20210912_143G_N1TOM_day5_region3_each10min_zoom07_FINAL_GFP68\n",
      "20210912_143G_N1TOM_day5_region3_each10min_zoom07_FINAL_GFP69\n",
      "20210912_143G_N1TOM_day5_region3_each10min_zoom07_FINAL_GFP70\n",
      "20210912_143G_N1TOM_day5_region3_each10min_zoom07_FINAL_GFP71\n",
      "20210912_143G_N1TOM_day5_region3_each10min_zoom07_FINAL_GFP72\n",
      "20210912_143G_N1TOM_day5_region3_each10min_zoom07_FINAL_GFP73\n",
      "20210912_143G_N1TOM_day5_region3_each10min_zoom07_FINAL_GFP74\n",
      "20210912_143G_N1TOM_day5_region3_each10min_zoom07_FINAL_GFP75\n",
      "20210912_143G_N1TOM_day5_region3_each10min_zoom07_FINAL_GFP76\n",
      "20210912_143G_N1TOM_day5_region3_each10min_zoom07_FINAL_GFP77\n",
      "20210912_143G_N1TOM_day5_region3_each10min_zoom07_FINAL_GFP78\n",
      "20210912_143G_N1TOM_day5_region3_each10min_zoom07_FINAL_GFP79\n",
      "20210912_143G_N1TOM_day5_region3_each10min_zoom07_FINAL_GFP80\n",
      "20210912_143G_N1TOM_day5_region3_each10min_zoom07_FINAL_GFP81\n",
      "20210912_143G_N1TOM_day5_region3_each10min_zoom07_FINAL_GFP82\n",
      "20210912_143G_N1TOM_day5_region3_each10min_zoom07_FINAL_GFP83\n",
      "20210912_143G_N1TOM_day5_region3_each10min_zoom07_FINAL_GFP84\n",
      "20210912_143G_N1TOM_day5_region3_each10min_zoom07_FINAL_GFP85\n",
      "20210912_143G_N1TOM_day5_region3_each10min_zoom07_FINAL_GFP86\n",
      "20210912_143G_N1TOM_day5_region3_each10min_zoom07_FINAL_GFP87\n",
      "20210912_143G_N1TOM_day5_region3_each10min_zoom07_FINAL_GFP88\n",
      "20210912_143G_N1TOM_day5_region3_each10min_zoom07_FINAL_GFP89\n",
      "20210912_143G_N1TOM_day5_region3_each10min_zoom07_FINAL_GFP90\n",
      "20210912_143G_N1TOM_day5_region3_each10min_zoom07_FINAL_GFP91\n",
      "20210912_143G_N1TOM_day5_region3_each10min_zoom07_FINAL_GFP92\n",
      "20210912_143G_N1TOM_day5_region3_each10min_zoom07_FINAL_GFP93\n",
      "20210912_143G_N1TOM_day5_region3_each10min_zoom07_FINAL_GFP94\n",
      "20210912_143G_N1TOM_day5_region3_each10min_zoom07_FINAL_GFP95\n",
      "20210912_143G_N1TOM_day5_region3_each10min_zoom07_FINAL_GFP96\n",
      "20210912_143G_N1TOM_day5_region3_each10min_zoom07_FINAL_GFP97\n",
      "20210912_143G_N1TOM_day5_region3_each10min_zoom07_FINAL_GFP98\n",
      "20210912_143G_N1TOM_day5_region3_each10min_zoom07_FINAL_GFP99\n",
      "20210912_143G_N1TOM_day5_region3_each10min_zoom07_FINAL_GFP100\n",
      "20210912_143G_N1TOM_day5_region3_each10min_zoom07_FINAL_GFP101\n",
      "20210912_143G_N1TOM_day5_region3_each10min_zoom07_FINAL_GFP102\n",
      "20210912_143G_N1TOM_day5_region3_each10min_zoom07_FINAL_GFP103\n",
      "20210912_143G_N1TOM_day5_region3_each10min_zoom07_FINAL_GFP104\n",
      "20210912_143G_N1TOM_day5_region3_each10min_zoom07_FINAL_GFP105\n",
      "20210912_143G_N1TOM_day5_region3_each10min_zoom07_FINAL_GFP106\n",
      "20210912_143G_N1TOM_day5_region3_each10min_zoom07_FINAL_GFP107\n",
      "20210912_143G_N1TOM_day5_region3_each10min_zoom07_FINAL_GFP108\n",
      "20210912_143G_N1TOM_day5_region3_each10min_zoom07_FINAL_GFP109\n",
      "20210912_143G_N1TOM_day5_region3_each10min_zoom07_FINAL_GFP110\n",
      "20210912_143G_N1TOM_day5_region3_each10min_zoom07_FINAL_GFP111\n",
      "20210912_143G_N1TOM_day5_region3_each10min_zoom07_FINAL_GFP112\n",
      "20210912_143G_N1TOM_day5_region3_each10min_zoom07_FINAL_GFP113\n",
      "20210912_143G_N1TOM_day5_region3_each10min_zoom07_FINAL_GFP114\n",
      "20210912_143G_N1TOM_day5_region3_each10min_zoom07_FINAL_GFP115\n",
      "20210912_143G_N1TOM_day5_region3_each10min_zoom07_FINAL_GFP116\n",
      "20210912_143G_N1TOM_day5_region3_each10min_zoom07_FINAL_GFP117\n",
      "20210912_143G_N1TOM_day5_region3_each10min_zoom07_FINAL_GFP118\n",
      "20210912_143G_N1TOM_day5_region3_each10min_zoom07_FINAL_GFP119\n",
      "20210912_143G_N1TOM_day5_region3_each10min_zoom07_FINAL_GFP120\n",
      "20210912_143G_N1TOM_day5_region3_each10min_zoom07_FINAL_GFP121\n",
      "20210912_143G_N1TOM_day5_region3_each10min_zoom07_FINAL_GFP122\n",
      "20210912_143G_N1TOM_day5_region3_each10min_zoom07_FINAL_GFP123\n",
      "20210912_143G_N1TOM_day5_region3_each10min_zoom07_FINAL_GFP124\n",
      "20210912_143G_N1TOM_day5_region3_each10min_zoom07_FINAL_GFP125\n",
      "20210912_143G_N1TOM_day5_region3_each10min_zoom07_FINAL_GFP126\n",
      "20210912_143G_N1TOM_day5_region3_each10min_zoom07_FINAL_GFP127\n",
      "20210912_143G_N1TOM_day5_region3_each10min_zoom07_FINAL_GFP128\n",
      "20210912_143G_N1TOM_day5_region3_each10min_zoom07_FINAL_GFP129\n",
      "20210912_143G_N1TOM_day5_region3_each10min_zoom07_FINAL_GFP130\n",
      "20210912_143G_N1TOM_day5_region3_each10min_zoom07_FINAL_GFP131\n"
     ]
    },
    {
     "name": "stdout",
     "output_type": "stream",
     "text": [
      "20210912_143G_N1TOM_day5_region3_each10min_zoom07_FINAL_GFP132\n",
      "20210912_143G_N1TOM_day5_region3_each10min_zoom07_FINAL_GFP133\n",
      "20210912_143G_N1TOM_day5_region3_each10min_zoom07_FINAL_GFP134\n",
      "20210912_143G_N1TOM_day5_region3_each10min_zoom07_FINAL_GFP135\n",
      "20210912_143G_N1TOM_day5_region3_each10min_zoom07_FINAL_GFP136\n",
      "20210912_143G_N1TOM_day5_region3_each10min_zoom07_FINAL_GFP137\n",
      "20210912_143G_N1TOM_day5_region3_each10min_zoom07_FINAL_GFP138\n",
      "20210912_143G_N1TOM_day5_region3_each10min_zoom07_FINAL_GFP139\n",
      "20210912_143G_N1TOM_day5_region3_each10min_zoom07_FINAL_GFP140\n",
      "20210912_143G_N1TOM_day5_region3_each10min_zoom07_FINAL_GFP141\n",
      "20210912_143G_N1TOM_day5_region3_each10min_zoom07_FINAL_GFP142\n",
      "20210912_143G_N1TOM_day5_region3_each10min_zoom07_FINAL_GFP143\n",
      "20210912_143G_N1TOM_day5_region3_each10min_zoom07_FINAL_GFP144\n",
      "20210912_143G_N1TOM_day5_region3_each10min_zoom07_FINAL_GFP145\n",
      "20210912_143G_N1TOM_day5_region3_each10min_zoom07_FINAL_GFP146\n",
      "20210912_143G_N1TOM_day5_region3_each10min_zoom07_FINAL_GFP147\n",
      "20210912_143G_N1TOM_day5_region3_each10min_zoom07_FINAL_GFP148\n",
      "20210912_143G_N1TOM_day5_region3_each10min_zoom07_FINAL_GFP149\n",
      "20210912_143G_N1TOM_day5_region3_each10min_zoom07_FINAL_GFP150\n",
      "20210912_143G_N1TOM_day5_region3_each10min_zoom07_FINAL_GFP151\n"
     ]
    }
   ],
   "source": [
    "SplitSegPath = Path('/Users/aimachine/ClaudiaTracks_September/SmartSeedsMask/')\n",
    "SavePath = '/Users/aimachine/ClaudiaTracks_September/Segmentation/'\n",
    "SaveName = '20210912_143G_N1TOM_day5_region3_each10min_zoom07_FINAL_GFP'\n",
    "\n",
    "Raw_path = os.path.join(SplitSegPath, '*.tif')\n",
    "filesRaw = glob.glob(Raw_path)\n",
    "filesRaw = natsorted(filesRaw)\n",
    "fname = filesRaw[0]\n",
    "test_image_dimensions = imread(fname)\n",
    "print(len(filesRaw))\n",
    "BigImage = np.zeros([len(filesRaw),test_image_dimensions.shape[0],test_image_dimensions.shape[1],test_image_dimensions.shape[2] ]) \n",
    "count = 0\n",
    "for fname in filesRaw:\n",
    "         image = imread(fname)\n",
    "         print(os.path.basename(os.path.splitext(fname)[0]))\n",
    "         BigImage[count,:] = image\n",
    "         count = count + 1\n",
    "        \n",
    "imwrite(SavePath + SaveName + '.tif', BigImage.astype('float16'))        "
   ]
  },
  {
   "cell_type": "code",
   "execution_count": 5,
   "metadata": {},
   "outputs": [],
   "source": [
    "RawPath = Path('/Users/aimachine/ClaudiaTracks_September/20210912_143G_N1TOM_day5_region3_each10min_zoom07_FINAL_GFP.tif')\n",
    "SegPath = Path('/Users/aimachine/ClaudiaTracks_September/Segmentation/20210912_143G_N1TOM_day5_region3_each10min_zoom07_FINAL_GFP.tif')\n",
    "MaskPath = None #Path('/Users/aimachine/Track_Analysis_105E_Day6/Mask/105E_Mask.tif')\n",
    "savedir = Path('/Users/aimachine/ClaudiaTracks_September/Results/')\n",
    "savedir.mkdir(exist_ok = True)\n",
    "Name = RawPath.stem\n"
   ]
  },
  {
   "cell_type": "code",
   "execution_count": 6,
   "metadata": {},
   "outputs": [
    {
     "name": "stdout",
     "output_type": "stream",
     "text": [
      "Image has shape: (152, 32, 1024, 1024)\n",
      "Image Dimensions: 4\n"
     ]
    },
    {
     "name": "stderr",
     "output_type": "stream",
     "text": [
      "100%|████████████████████████████████████████████████████████████████████████████████████████████████████████████████████████████████████████████████████████████████████████████████████████████████████████████████████████████████████████████████████████████████████████████| 152/152 [00:49<00:00,  3.05it/s]\n"
     ]
    }
   ],
   "source": [
    "bTrackmate.CreateTrackCheckpoint(str(RawPath), str(SegPath), None, Name, str(savedir))"
   ]
  },
  {
   "cell_type": "code",
   "execution_count": null,
   "metadata": {},
   "outputs": [],
   "source": []
  }
 ],
 "metadata": {
  "kernelspec": {
   "display_name": "Python [conda env:testenv] *",
   "language": "python",
   "name": "conda-env-testenv-py"
  },
  "language_info": {
   "codemirror_mode": {
    "name": "ipython",
    "version": 3
   },
   "file_extension": ".py",
   "mimetype": "text/x-python",
   "name": "python",
   "nbconvert_exporter": "python",
   "pygments_lexer": "ipython3",
   "version": "3.9.0"
  }
 },
 "nbformat": 4,
 "nbformat_minor": 4
}
