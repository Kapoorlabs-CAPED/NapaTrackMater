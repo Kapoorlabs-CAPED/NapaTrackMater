{
 "cells": [
  {
   "cell_type": "markdown",
   "metadata": {},
   "source": [
    "# Checkpoint Maker for Fiji bTrackmate\n",
    "\n",
    "Create csv file of cell attributes for bTM \n",
    "\n",
    "The Fiji csv file has the headers:\n",
    "\n",
    "T X Y Z Label Perimeter Volume Intensity ExtentX ExtentY ExtentZ\n",
    "\n",
    "These columns are read in by bTrackmate csv reader and it creates\n",
    "\n",
    "TM SpotCollection for tracking\n"
   ]
  },
  {
   "cell_type": "code",
   "execution_count": 11,
   "metadata": {},
   "outputs": [],
   "source": [
    "from pathlib import Path\n",
    "import os\n",
    "from tifffile import imread, imwrite\n",
    "import napatrackmater\n",
    "from napatrackmater import bTrackmate\n",
    "import glob\n",
    "import numpy as np"
   ]
  },
  {
   "cell_type": "markdown",
   "metadata": {},
   "source": [
    "Combine the split timepoints into a single segmentation image"
   ]
  },
  {
   "cell_type": "code",
   "execution_count": 14,
   "metadata": {},
   "outputs": [
    {
     "name": "stdout",
     "output_type": "stream",
     "text": [
      "152\n"
     ]
    }
   ],
   "source": [
    "SplitSegPath = Path('/Users/aimachine/ClaudiaTracks_September/SmartSeedsMask/')\n",
    "SavePath = '/Users/aimachine/ClaudiaTracks_September/Segmentation/'\n",
    "SaveName = '20210912_143G_N1TOM_day5_region3_each10min_zoom07_FINAL_GFP'\n",
    "\n",
    "Raw_path = os.path.join(SplitSegPath, '*.tif')\n",
    "filesRaw = glob.glob(Raw_path)\n",
    "filesRaw.sort\n",
    "fname = filesRaw[0]\n",
    "test_image_dimensions = imread(fname)\n",
    "print(len(filesRaw))\n",
    "BigImage = np.zeros([len(filesRaw),test_image_dimensions.shape[0],test_image_dimensions.shape[1],test_image_dimensions.shape[2] ]) \n",
    "count = 0\n",
    "for fname in filesRaw:\n",
    "         image = imread(fname)\n",
    "         BigImage[count,:] = image\n",
    "         count = count + 1\n",
    "        \n",
    "imwrite(SavePath + SaveName + '.tif', BigImage)        "
   ]
  },
  {
   "cell_type": "code",
   "execution_count": 15,
   "metadata": {},
   "outputs": [],
   "source": [
    "RawPath = Path('/Users/aimachine/ClaudiaTracks_September/20210912_143G_N1TOM_day5_region3_each10min_zoom07_FINAL_GFP.tif')\n",
    "SegPath = Path('/Users/aimachine/ClaudiaTracks_September/Segmentation/20210912_143G_N1TOM_day5_region3_each10min_zoom07_FINAL_GFP.tif')\n",
    "MaskPath = None #Path('/Users/aimachine/Track_Analysis_105E_Day6/Mask/105E_Mask.tif')\n",
    "savedir = Path('/Users/aimachine/ClaudiaTracks_September/Results/')\n",
    "savedir.mkdir(exist_ok = True)\n",
    "Name = RawPath.stem\n"
   ]
  },
  {
   "cell_type": "code",
   "execution_count": null,
   "metadata": {},
   "outputs": [],
   "source": [
    "bTrackmate.CreateTrackCheckpoint(str(RawPath), str(SegPath), str(MaskPath), Name, str(savedir))"
   ]
  },
  {
   "cell_type": "code",
   "execution_count": null,
   "metadata": {},
   "outputs": [],
   "source": []
  }
 ],
 "metadata": {
  "kernelspec": {
   "display_name": "Python [conda env:testenv] *",
   "language": "python",
   "name": "conda-env-testenv-py"
  },
  "language_info": {
   "codemirror_mode": {
    "name": "ipython",
    "version": 3
   },
   "file_extension": ".py",
   "mimetype": "text/x-python",
   "name": "python",
   "nbconvert_exporter": "python",
   "pygments_lexer": "ipython3",
   "version": "3.9.0"
  }
 },
 "nbformat": 4,
 "nbformat_minor": 4
}
