{
 "cells": [
  {
   "cell_type": "code",
   "execution_count": null,
   "metadata": {},
   "outputs": [],
   "source": [
    "import sys\n",
    "\n",
    "import numpy as np\n",
    "import os\n",
    "from tifffile import imread, imwrite\n",
    "import matplotlib.pyplot as plt\n",
    "import napari\n",
    "import napatrackmater.bTrackmate as TM"
   ]
  },
  {
   "cell_type": "code",
   "execution_count": null,
   "metadata": {},
   "outputs": [],
   "source": [
    "#Trackmate writes an XML file of tracks, we use it as input\n",
    "xml_path = '/home/sancere/Kepler/ClaudiaTracking/Track_Analysis/113B_Day3/DUP_C3-20210122_113B_N1BcatTOM_day3_region3_each10min_zoom08_40x_FINAL.xml' \n",
    "#Path to Segmentation image for extracting any track information from labels \n",
    "LabelImage = '/home/sancere/Kepler/ClaudiaTracking/Track_Analysis/113B_Day3/SegmentationC3-20210122_113B_N1BcatTOM_day3_region3_each10min_zoom08_40x_FINAL.tif'\n",
    "#Path to Raw image to display the tracks on (optional) else set it to None\n",
    "RawImage = '/home/sancere/Kepler/ClaudiaTracking/Track_Analysis/113B_Day3/C3-20210122_113B_N1BcatTOM_day3_region3_each10min_zoom08_40x_FINAL.tif'\n",
    "savedir = '/home/sancere/Kepler/ClaudiaTracking/Track_Analysis/113B_Day3/Results/'\n",
    "MaskImage = '/home/sancere/Kepler/ClaudiaTracking/Track_Analysis/113B_Day3/Mask20210122_113B_N1BcatTOM_day3_region3_each10min_zoom08_40x_FINAL.tif'"
   ]
  },
  {
   "cell_type": "code",
   "execution_count": null,
   "metadata": {
    "scrolled": false
   },
   "outputs": [],
   "source": [
    "all_track_properties, Mask, calibration = TM.import_TM_XML(xml_path, RawImage, LabelImage, MaskImage)\n"
   ]
  },
  {
   "cell_type": "markdown",
   "metadata": {},
   "source": [
    "# Visualize Dividing tracks"
   ]
  },
  {
   "cell_type": "code",
   "execution_count": null,
   "metadata": {
    "scrolled": true
   },
   "outputs": [],
   "source": [
    "TM.TrackMateLiveTracks(RawImage, LabelImage, Mask,savedir, calibration,all_track_properties, True)"
   ]
  },
  {
   "cell_type": "markdown",
   "metadata": {},
   "source": [
    "# Visualize Non Dividing tracks"
   ]
  },
  {
   "cell_type": "code",
   "execution_count": null,
   "metadata": {
    "scrolled": false
   },
   "outputs": [],
   "source": [
    " TM.TrackMateLiveTracks(RawImage, LabelImage, Mask,savedir, calibration, all_track_properties, False)"
   ]
  },
  {
   "cell_type": "code",
   "execution_count": null,
   "metadata": {},
   "outputs": [],
   "source": []
  },
  {
   "cell_type": "code",
   "execution_count": null,
   "metadata": {},
   "outputs": [],
   "source": []
  }
 ],
 "metadata": {
  "kernelspec": {
   "display_name": "Python 3",
   "language": "python",
   "name": "python3"
  },
  "language_info": {
   "codemirror_mode": {
    "name": "ipython",
    "version": 3
   },
   "file_extension": ".py",
   "mimetype": "text/x-python",
   "name": "python",
   "nbconvert_exporter": "python",
   "pygments_lexer": "ipython3",
   "version": "3.8.8"
  }
 },
 "nbformat": 4,
 "nbformat_minor": 2
}
