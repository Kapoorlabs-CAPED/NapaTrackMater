{
 "cells": [
  {
   "cell_type": "code",
   "execution_count": 1,
   "metadata": {},
   "outputs": [],
   "source": [
    "\n",
    "import sys\n",
    "sys.path.append('../')\n",
    "import numpy as np\n",
    "import os\n",
    "from tifffile import imread, imwrite\n",
    "import matplotlib.pyplot as plt\n",
    "import napari\n",
    "import napatrackmater.bTrackmate as TM\n",
    "from pathlib import Path\n",
    "%gui qt"
   ]
  },
  {
   "cell_type": "code",
   "execution_count": 2,
   "metadata": {},
   "outputs": [],
   "source": [
    "#Trackmate writes an XML file of tracks, we use it as input\n",
    "xml_path = '/Users/aimachine/MariTests/spot_visualization_test/t1_20.xml' \n",
    "#Path to Segmentation image for extracting any track information from labels \n",
    "LabelImage = '/Users/aimachine/MariTests/spot_visualization_test/t1_20.tif'\n",
    "#Trackmate writes a spots and tracks file as csv\n",
    "spot_csv = '/Users/aimachine/MariTests/spot_visualization_test/t1_20_spots.csv'\n",
    "track_csv = '/Users/aimachine/MariTests/spot_visualization_test/t1_20_tracks.csv'\n",
    "savedir = '/Users/aimachine/MariTests/spot_visualization_test/Results/'\n",
    "Path(savedir).mkdir(exist_ok=True)"
   ]
  },
  {
   "cell_type": "code",
   "execution_count": 3,
   "metadata": {
    "scrolled": false
   },
   "outputs": [
    {
     "name": "stdout",
     "output_type": "stream",
     "text": [
      "Reading Image\n",
      "Image dimensions: (20, 17, 2439, 2439)\n",
      "Index(['Unnamed: 0', 'ID', 'TRACK_ID', 'QUALITY', 'POSITION_X', 'POSITION_Y',\n",
      "       'POSITION_Z', 'POSITION_T', 'FRAME', 'RADIUS', 'VISIBILITY',\n",
      "       'MANUAL_SPOT_COLOR', 'MEAN_INTENSITY_CH1', 'MEDIAN_INTENSITY_CH1',\n",
      "       'MIN_INTENSITY_CH1', 'MAX_INTENSITY_CH1', 'TOTAL_INTENSITY_CH1',\n",
      "       'STD_INTENSITY_CH1', 'MEAN_INTENSITY_CH2', 'MEDIAN_INTENSITY_CH2',\n",
      "       'MIN_INTENSITY_CH2', 'MAX_INTENSITY_CH2', 'TOTAL_INTENSITY_CH2',\n",
      "       'STD_INTENSITY_CH2', 'CONTRAST_CH1', 'SNR_CH1', 'CONTRAST_CH2',\n",
      "       'SNR_CH2'],\n",
      "      dtype='object') Index(['Unnamed: 0', 'TRACK_INDEX', 'TRACK_ID', 'NUMBER_SPOTS', 'NUMBER_GAPS',\n",
      "       'NUMBER_SPLITS', 'NUMBER_MERGES', 'NUMBER_COMPLEX', 'LONGEST_GAP',\n",
      "       'TRACK_DURATION', 'TRACK_START', 'TRACK_STOP', 'TRACK_DISPLACEMENT',\n",
      "       'TRACK_X_LOCATION', 'TRACK_Y_LOCATION', 'TRACK_Z_LOCATION',\n",
      "       'TRACK_MEAN_SPEED', 'TRACK_MAX_SPEED', 'TRACK_MIN_SPEED',\n",
      "       'TRACK_MEDIAN_SPEED', 'TRACK_STD_SPEED', 'TRACK_MEAN_QUALITY',\n",
      "       'TOTAL_DISTANCE_TRAVELED', 'MAX_DISTANCE_TRAVELED', 'CONFINMENT_RATIO',\n",
      "       'MEAN_STRAIGHT_LINE_SPEED', 'LINEARITY_OF_FORWARD_PROGRESSION',\n",
      "       'MEAN_DIRECTIONAL_CHANGE_RATE'],\n",
      "      dtype='object')\n",
      "Unnamed: 0 14739\n",
      "ID 14739\n",
      "TRACK_ID 14739\n",
      "QUALITY 14739\n",
      "POSITION_X 14739\n",
      "POSITION_Y 14739\n",
      "POSITION_Z 14739\n",
      "POSITION_T 14739\n",
      "FRAME 14739\n",
      "RADIUS 14739\n",
      "VISIBILITY 14739\n",
      "MANUAL_SPOT_COLOR 14739\n",
      "MEAN_INTENSITY_CH1 14739\n",
      "MEDIAN_INTENSITY_CH1 14739\n",
      "MIN_INTENSITY_CH1 14739\n",
      "MAX_INTENSITY_CH1 14739\n",
      "TOTAL_INTENSITY_CH1 14739\n",
      "STD_INTENSITY_CH1 14739\n",
      "MEAN_INTENSITY_CH2 14739\n",
      "MEDIAN_INTENSITY_CH2 14739\n",
      "MIN_INTENSITY_CH2 14739\n",
      "MAX_INTENSITY_CH2 14739\n",
      "TOTAL_INTENSITY_CH2 14739\n",
      "STD_INTENSITY_CH2 14739\n",
      "CONTRAST_CH1 14739\n",
      "SNR_CH1 14739\n",
      "CONTRAST_CH2 14739\n",
      "SNR_CH2 14739\n"
     ]
    },
    {
     "name": "stderr",
     "output_type": "stream",
     "text": [
      "/Users/aimachine/opt/anaconda3/envs/testenv/lib/python3.9/site-packages/napari/_vispy/vispy_camera.py:109: RuntimeWarning: divide by zero encountered in true_divide\n",
      "  zoom = np.min(canvas_size / scale)\n",
      "100%|██████████████████████████████████████████████████████████████████████████████████| 14739/14739 [00:00<00:00, 814437.08it/s]\n",
      "Traceback (most recent call last):\n",
      "  File \"/Users/aimachine/NapaTrackMater/napatrackmater/bTrackmate.py\", line 865, in <lambda>\n",
      "    lambda trackid = Attributeidbox: self.second_image_add(\n",
      "  File \"/Users/aimachine/NapaTrackMater/napatrackmater/bTrackmate.py\", line 905, in second_image_add\n",
      "    [Relabel(NewSegimage, time, z, y, x, attr) for attr, time, z, y, x in locations]\n",
      "  File \"/Users/aimachine/NapaTrackMater/napatrackmater/bTrackmate.py\", line 905, in <listcomp>\n",
      "    [Relabel(NewSegimage, time, z, y, x, attr) for attr, time, z, y, x in locations]\n",
      "  File \"/Users/aimachine/NapaTrackMater/napatrackmater/bTrackmate.py\", line 923, in Relabel\n",
      "    image[indices] = relabelval\n",
      "ValueError: cannot convert float NaN to integer\n"
     ]
    }
   ],
   "source": [
    "TM.import_TM_XML_Relabel(xml_path,LabelImage,spot_csv, track_csv, savedir)"
   ]
  },
  {
   "cell_type": "code",
   "execution_count": null,
   "metadata": {},
   "outputs": [],
   "source": []
  }
 ],
 "metadata": {
  "kernelspec": {
   "display_name": "Python [conda env:testenv] *",
   "language": "python",
   "name": "conda-env-testenv-py"
  },
  "language_info": {
   "codemirror_mode": {
    "name": "ipython",
    "version": 3
   },
   "file_extension": ".py",
   "mimetype": "text/x-python",
   "name": "python",
   "nbconvert_exporter": "python",
   "pygments_lexer": "ipython3",
   "version": "3.9.0"
  }
 },
 "nbformat": 4,
 "nbformat_minor": 4
}
