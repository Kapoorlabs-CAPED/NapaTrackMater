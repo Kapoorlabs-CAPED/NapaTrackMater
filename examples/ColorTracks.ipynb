{
 "cells": [
  {
   "cell_type": "code",
   "execution_count": 1,
   "metadata": {},
   "outputs": [],
   "source": [
    "\n",
    "import sys\n",
    "sys.path.append('../')\n",
    "import numpy as np\n",
    "import os\n",
    "from tifffile import imread, imwrite\n",
    "import matplotlib.pyplot as plt\n",
    "import napari\n",
    "import napatrackmater.bTrackmate as TM\n",
    "from pathlib import Path\n",
    "%gui qt"
   ]
  },
  {
   "cell_type": "code",
   "execution_count": 2,
   "metadata": {},
   "outputs": [],
   "source": [
    "#Trackmate writes an XML file of tracks, we use it as input\n",
    "xml_path = '/Users/aimachine/MariTests/spot_visualization_test/t1_20.xml' \n",
    "#Path to Segmentation image for extracting any track information from labels \n",
    "LabelImage = '/Users/aimachine/MariTests/spot_visualization_test/t1_20.tif'\n",
    "#Trackmate writes a spots and tracks file as csv\n",
    "spot_csv = '/Users/aimachine/MariTests/spot_visualization_test/t1_20_spots.csv'\n",
    "track_csv = '/Users/aimachine/MariTests/spot_visualization_test/t1_20_tracks.csv'\n",
    "savedir = '/Users/aimachine/MariTests/spot_visualization_test/Results/'\n",
    "Path(savedir).mkdir(exist_ok=True)\n",
    "scale =255"
   ]
  },
  {
   "cell_type": "code",
   "execution_count": 3,
   "metadata": {
    "scrolled": false
   },
   "outputs": [
    {
     "name": "stdout",
     "output_type": "stream",
     "text": [
      "Reading Image\n",
      "Image dimensions: (20, 17, 2439, 2439)\n"
     ]
    },
    {
     "name": "stderr",
     "output_type": "stream",
     "text": [
      "/Users/aimachine/opt/anaconda3/envs/testenv/lib/python3.9/site-packages/napari/_vispy/vispy_camera.py:109: RuntimeWarning: divide by zero encountered in true_divide\n",
      "  zoom = np.min(canvas_size / scale)\n"
     ]
    },
    {
     "name": "stdout",
     "output_type": "stream",
     "text": [
      "Computing region boxes\n"
     ]
    },
    {
     "name": "stderr",
     "output_type": "stream",
     "text": [
      "100%|████████████████████████████████████████████████████████████████████████████████████████████████████████████████████████| 20/20 [00:04<00:00,  4.36it/s]\n",
      "100%|██████████████████████████████████████████████████████████████████████████████████████████████████████████████████| 655/655 [00:00<00:00, 707512.01it/s]\n",
      "100%|██████████████████████████████████████████████████████████████████████████████████████████████████████████████| 14739/14739 [00:00<00:00, 121985.33it/s]\n"
     ]
    },
    {
     "name": "stdout",
     "output_type": "stream",
     "text": [
      "Relabelling image with chosen trackmate attribute\n"
     ]
    },
    {
     "name": "stderr",
     "output_type": "stream",
     "text": [
      "100%|████████████████████████████████████████████████████████████████████████████████████████████████████████████████████████| 20/20 [00:46<00:00,  2.33s/it]\n"
     ]
    }
   ],
   "source": [
    "TM.import_TM_XML_Relabel(xml_path,LabelImage,spot_csv, track_csv, savedir, scale = scale)"
   ]
  },
  {
   "cell_type": "code",
   "execution_count": null,
   "metadata": {},
   "outputs": [],
   "source": []
  }
 ],
 "metadata": {
  "kernelspec": {
   "display_name": "Python 3",
   "language": "python",
   "name": "python3"
  },
  "language_info": {
   "codemirror_mode": {
    "name": "ipython",
    "version": 3
   },
   "file_extension": ".py",
   "mimetype": "text/x-python",
   "name": "python",
   "nbconvert_exporter": "python",
   "pygments_lexer": "ipython3",
   "version": "3.9.0"
  }
 },
 "nbformat": 4,
 "nbformat_minor": 4
}
