{
 "cells": [
  {
   "cell_type": "code",
   "execution_count": 1,
   "metadata": {},
   "outputs": [],
   "source": [
    "\n",
    "import sys\n",
    "sys.path.append('../../')\n",
    "import numpy as np\n",
    "import os\n",
    "from tifffile import imread, imwrite\n",
    "import matplotlib.pyplot as plt\n",
    "import napari\n",
    "import napatrackmater.bTrackmate as TM\n",
    "from pathlib import Path\n",
    "%gui qt"
   ]
  },
  {
   "cell_type": "code",
   "execution_count": 2,
   "metadata": {},
   "outputs": [],
   "source": [
    "#Trackmate writes an XML file of tracks, we use it as input\n",
    "xml_path = '/Users/aimachine/MariTests/full_tracks/for_traking_full.xml' \n",
    "#Trackmate writes a spots and tracks file as csv\n",
    "spot_csv = '/Users/aimachine/MariTests/full_tracks/spots.csv'\n",
    "links_csv = '/Users/aimachine/MariTests/full_tracks/links.csv'\n",
    "savedir = '/Users/aimachine/MariTests/full_tracks/Results/'\n",
    "Path(savedir).mkdir(exist_ok=True)\n"
   ]
  },
  {
   "cell_type": "code",
   "execution_count": null,
   "metadata": {
    "scrolled": false
   },
   "outputs": [
    {
     "name": "stderr",
     "output_type": "stream",
     "text": [
      "/var/folders/36/p232bry50m1f42ncbjk74j_c0000gn/T/ipykernel_32490/2348386373.py:1: DtypeWarning: Columns (1,2,3,4,5,6,7,8,9,10,11,12,13,14,15,16,17,18,19,20,21,22,23,24,25,26,27) have mixed types.Specify dtype option on import or set low_memory=False.\n",
      "  TM.import_TM_XML_statplots(xml_path,spot_csv, links_csv, savedir)\n",
      "/var/folders/36/p232bry50m1f42ncbjk74j_c0000gn/T/ipykernel_32490/2348386373.py:1: DtypeWarning: Columns (1,2,3,4,5,6,7,8,9,10,11,12) have mixed types.Specify dtype option on import or set low_memory=False.\n",
      "  TM.import_TM_XML_statplots(xml_path,spot_csv, links_csv, savedir)\n",
      " 36%|██████████████████████████████▍                                                     | 96/265 [00:13<00:22,  7.46it/s]"
     ]
    }
   ],
   "source": [
    "TM.import_TM_XML_statplots(xml_path,spot_csv, links_csv, savedir)"
   ]
  },
  {
   "cell_type": "code",
   "execution_count": null,
   "metadata": {},
   "outputs": [],
   "source": []
  },
  {
   "cell_type": "code",
   "execution_count": null,
   "metadata": {},
   "outputs": [],
   "source": []
  }
 ],
 "metadata": {
  "kernelspec": {
   "display_name": "Python [conda env:testenv] *",
   "language": "python",
   "name": "conda-env-testenv-py"
  },
  "language_info": {
   "codemirror_mode": {
    "name": "ipython",
    "version": 3
   },
   "file_extension": ".py",
   "mimetype": "text/x-python",
   "name": "python",
   "nbconvert_exporter": "python",
   "pygments_lexer": "ipython3",
   "version": "3.9.0"
  }
 },
 "nbformat": 4,
 "nbformat_minor": 4
}
