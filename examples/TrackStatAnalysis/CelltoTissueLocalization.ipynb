{
 "cells": [
  {
   "cell_type": "code",
   "execution_count": 1,
   "id": "fb07ed24",
   "metadata": {},
   "outputs": [
    {
     "data": {
      "text/plain": [
       "<matplotlib.pyplot._IonContext at 0x7f9ee44855e0>"
      ]
     },
     "execution_count": 1,
     "metadata": {},
     "output_type": "execute_result"
    }
   ],
   "source": [
    "import sys\n",
    "sys.path.append('../../')\n",
    "import numpy as np\n",
    "import os\n",
    "from tifffile import imread, imwrite\n",
    "import matplotlib.pyplot as plt\n",
    "import napari\n",
    "import seaborn as sns\n",
    "import napatrackmater.bTrackmate as TM\n",
    "from pathlib import Path\n",
    "%gui qt\n",
    "\n",
    "plt.ion()"
   ]
  },
  {
   "cell_type": "code",
   "execution_count": 2,
   "id": "6c84ce53",
   "metadata": {},
   "outputs": [],
   "source": [
    "#Trackmate writes an XML file of tracks, we use it as input\n",
    "xml_path = '/Users/aimachine/mainscipy/MariTests/full_tracks/for_traking_full.xml' \n",
    "window_size = 10\n",
    "view_angles = [15,10]"
   ]
  },
  {
   "cell_type": "code",
   "execution_count": null,
   "id": "a17dfa2e",
   "metadata": {
    "scrolled": false
   },
   "outputs": [
    {
     "name": "stdout",
     "output_type": "stream",
     "text": [
      "Reading XML\n",
      "Done, Processing\n",
      "All Tracks plot\n"
     ]
    },
    {
     "name": "stderr",
     "output_type": "stream",
     "text": [
      "  0%|▌                                                                                                                                                          | 3/896 [00:10<49:14,  3.31s/it]"
     ]
    }
   ],
   "source": [
    "\n",
    "Gradients = TM.import_TM_XML_Localization(xml_path, window_size = window_size, angle_1 = view_angles[0], angle_2 = view_angles[1])"
   ]
  },
  {
   "cell_type": "code",
   "execution_count": null,
   "id": "1bbdbaf2",
   "metadata": {},
   "outputs": [],
   "source": [
    "sns.histplot(Gradients, kde = True)"
   ]
  },
  {
   "cell_type": "code",
   "execution_count": null,
   "id": "f0a737de",
   "metadata": {},
   "outputs": [],
   "source": []
  }
 ],
 "metadata": {
  "kernelspec": {
   "display_name": "Python [conda env:tensorflowGPU] *",
   "language": "python",
   "name": "conda-env-tensorflowGPU-py"
  },
  "language_info": {
   "codemirror_mode": {
    "name": "ipython",
    "version": 3
   },
   "file_extension": ".py",
   "mimetype": "text/x-python",
   "name": "python",
   "nbconvert_exporter": "python",
   "pygments_lexer": "ipython3",
   "version": "3.9.0"
  }
 },
 "nbformat": 4,
 "nbformat_minor": 5
}
