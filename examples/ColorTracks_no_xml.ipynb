{
 "cells": [
  {
   "cell_type": "code",
   "execution_count": 1,
   "metadata": {},
   "outputs": [],
   "source": [
    "\n",
    "import sys\n",
    "sys.path.append('../')\n",
    "import numpy as np\n",
    "import os\n",
    "from tifffile import imread, imwrite\n",
    "import matplotlib.pyplot as plt\n",
    "import napari\n",
    "import napatrackmater.bTrackmate as TM\n",
    "from pathlib import Path\n",
    "%gui qt"
   ]
  },
  {
   "cell_type": "code",
   "execution_count": 2,
   "metadata": {},
   "outputs": [],
   "source": [
    "\n",
    "#Path to Segmentation image for extracting any track information from labels \n",
    "LabelImage = '/home/sancere/VKepler/CurieTrainingDatasets/Drosophila_fake_3D/RealMask/wt_12_gold.tif'\n",
    "#Trackmate writes a spots and tracks file as csv\n",
    "spot_csv = '/home/sancere/VKepler/CurieTrainingDatasets/Drosophila_fake_3D/Fake3DSegmentation.csv'\n",
    "savedir = '/home/sancere/VKepler/CurieTrainingDatasets/Drosophila_fake_3D/Results/'\n",
    "Path(savedir).mkdir(exist_ok=True)\n",
    "xcalibration = 1\n",
    "ycalibration = 1\n",
    "zcalibration = 1"
   ]
  },
  {
   "cell_type": "code",
   "execution_count": 3,
   "metadata": {
    "scrolled": false
   },
   "outputs": [
    {
     "name": "stdout",
     "output_type": "stream",
     "text": [
      "Reading Image\n"
     ]
    }
   ],
   "source": [
    "TM.import_TM_Relabel(LabelImage,spot_csv, savedir, xcalibration = xcalibration, ycalibration = ycalibration, zcalibration = zcalibration)"
   ]
  },
  {
   "cell_type": "code",
   "execution_count": null,
   "metadata": {},
   "outputs": [],
   "source": []
  }
 ],
 "metadata": {
  "kernelspec": {
   "display_name": "Python 3 (ipykernel)",
   "language": "python",
   "name": "python3"
  },
  "language_info": {
   "codemirror_mode": {
    "name": "ipython",
    "version": 3
   },
   "file_extension": ".py",
   "mimetype": "text/x-python",
   "name": "python",
   "nbconvert_exporter": "python",
   "pygments_lexer": "ipython3",
   "version": "3.9.0"
  }
 },
 "nbformat": 4,
 "nbformat_minor": 4
}
