{
 "cells": [
  {
   "cell_type": "code",
   "execution_count": 1,
   "metadata": {},
   "outputs": [],
   "source": [
    "import sys\n",
    "sys.path.append('../')\n",
    "import numpy as np\n",
    "import os\n",
    "from tifffile import imread, imwrite\n",
    "import matplotlib.pyplot as plt\n",
    "import napari\n",
    "import napatrackmater.bTrackmate as TM"
   ]
  },
  {
   "cell_type": "code",
   "execution_count": 2,
   "metadata": {},
   "outputs": [],
   "source": [
    "#Trackmate writes an XML file of tracks, we use it as input\n",
    "xml_path = '/Users/aimachine/MariTests/spot_visualization_test/t1_20.xml' \n",
    "#Path to Segmentation image for extracting any track information from labels \n",
    "LabelImage = '/Users/aimachine/MariTests/spot_visualization_test/t1_20.tif'\n",
    "#Path to Raw image to display the tracks on (optional) else set it to None\n",
    "savedir = '/Users/aimachine/MariTests/spot_visualization_test/Results/'\n",
    "mode = 'motion'"
   ]
  },
  {
   "cell_type": "code",
   "execution_count": 3,
   "metadata": {
    "scrolled": false
   },
   "outputs": [],
   "source": [
    "all_track_properties, Mask, calibration = TM.import_TM_XML(xml_path, LabelImage, LabelImage)\n"
   ]
  },
  {
   "cell_type": "markdown",
   "metadata": {},
   "source": [
    "# Gaussian check on Dividing tracks"
   ]
  },
  {
   "cell_type": "code",
   "execution_count": 4,
   "metadata": {
    "scrolled": true
   },
   "outputs": [
    {
     "name": "stderr",
     "output_type": "stream",
     "text": [
      "/Users/aimachine/opt/anaconda3/envs/testenv/lib/python3.9/site-packages/napari/_vispy/vispy_image_layer.py:224: UserWarning: data shape (17, 2439, 2439) exceeds GL_MAX_TEXTURE_SIZE 2048 in at least one axis and will be downsampled. Rendering is currently in 3D mode.\n",
      "  warnings.warn(\n",
      "ERROR:tornado.general:Uncaught exception in ZMQStream callback\n",
      "Traceback (most recent call last):\n",
      "  File \"/Users/aimachine/opt/anaconda3/envs/testenv/lib/python3.9/site-packages/zmq/eventloop/zmqstream.py\", line 431, in _run_callback\n",
      "    callback(*args, **kwargs)\n",
      "  File \"/Users/aimachine/opt/anaconda3/envs/testenv/lib/python3.9/site-packages/jupyter_client/threaded.py\", line 121, in _handle_recv\n",
      "    msg_list = self.ioloop._asyncio_event_loop.run_until_complete(get_msg(future_msg))\n",
      "  File \"/Users/aimachine/opt/anaconda3/envs/testenv/lib/python3.9/asyncio/base_events.py\", line 618, in run_until_complete\n",
      "    self._check_running()\n",
      "  File \"/Users/aimachine/opt/anaconda3/envs/testenv/lib/python3.9/asyncio/base_events.py\", line 580, in _check_running\n",
      "    raise RuntimeError(\n",
      "RuntimeError: Cannot run the event loop while another loop is running\n",
      "ERROR:tornado.general:Uncaught exception in zmqstream callback\n",
      "Traceback (most recent call last):\n",
      "  File \"/Users/aimachine/opt/anaconda3/envs/testenv/lib/python3.9/site-packages/zmq/eventloop/zmqstream.py\", line 452, in _handle_events\n",
      "    self._handle_recv()\n",
      "  File \"/Users/aimachine/opt/anaconda3/envs/testenv/lib/python3.9/site-packages/zmq/eventloop/zmqstream.py\", line 481, in _handle_recv\n",
      "    self._run_callback(callback, msg)\n",
      "  File \"/Users/aimachine/opt/anaconda3/envs/testenv/lib/python3.9/site-packages/zmq/eventloop/zmqstream.py\", line 431, in _run_callback\n",
      "    callback(*args, **kwargs)\n",
      "  File \"/Users/aimachine/opt/anaconda3/envs/testenv/lib/python3.9/site-packages/jupyter_client/threaded.py\", line 121, in _handle_recv\n",
      "    msg_list = self.ioloop._asyncio_event_loop.run_until_complete(get_msg(future_msg))\n",
      "  File \"/Users/aimachine/opt/anaconda3/envs/testenv/lib/python3.9/asyncio/base_events.py\", line 618, in run_until_complete\n",
      "    self._check_running()\n",
      "  File \"/Users/aimachine/opt/anaconda3/envs/testenv/lib/python3.9/asyncio/base_events.py\", line 580, in _check_running\n",
      "    raise RuntimeError(\n",
      "RuntimeError: Cannot run the event loop while another loop is running\n",
      "Exception in callback BaseAsyncIOLoop._handle_events(102, 1)\n",
      "handle: <Handle BaseAsyncIOLoop._handle_events(102, 1)>\n",
      "Traceback (most recent call last):\n",
      "  File \"/Users/aimachine/opt/anaconda3/envs/testenv/lib/python3.9/asyncio/events.py\", line 80, in _run\n",
      "    self._context.run(self._callback, *self._args)\n",
      "  File \"/Users/aimachine/opt/anaconda3/envs/testenv/lib/python3.9/site-packages/tornado/platform/asyncio.py\", line 189, in _handle_events\n",
      "    handler_func(fileobj, events)\n",
      "  File \"/Users/aimachine/opt/anaconda3/envs/testenv/lib/python3.9/site-packages/zmq/eventloop/zmqstream.py\", line 452, in _handle_events\n",
      "    self._handle_recv()\n",
      "  File \"/Users/aimachine/opt/anaconda3/envs/testenv/lib/python3.9/site-packages/zmq/eventloop/zmqstream.py\", line 481, in _handle_recv\n",
      "    self._run_callback(callback, msg)\n",
      "  File \"/Users/aimachine/opt/anaconda3/envs/testenv/lib/python3.9/site-packages/zmq/eventloop/zmqstream.py\", line 431, in _run_callback\n",
      "    callback(*args, **kwargs)\n",
      "  File \"/Users/aimachine/opt/anaconda3/envs/testenv/lib/python3.9/site-packages/jupyter_client/threaded.py\", line 121, in _handle_recv\n",
      "    msg_list = self.ioloop._asyncio_event_loop.run_until_complete(get_msg(future_msg))\n",
      "  File \"/Users/aimachine/opt/anaconda3/envs/testenv/lib/python3.9/asyncio/base_events.py\", line 618, in run_until_complete\n",
      "    self._check_running()\n",
      "  File \"/Users/aimachine/opt/anaconda3/envs/testenv/lib/python3.9/asyncio/base_events.py\", line 580, in _check_running\n",
      "    raise RuntimeError(\n",
      "RuntimeError: Cannot run the event loop while another loop is running\n",
      "/Users/aimachine/opt/anaconda3/envs/testenv/lib/python3.9/site-packages/napari/_vispy/vispy_image_layer.py:224: UserWarning: data shape (17, 2439, 2439) exceeds GL_MAX_TEXTURE_SIZE 2048 in at least one axis and will be downsampled. Rendering is currently in 3D mode.\n",
      "  warnings.warn(\n",
      "/Users/aimachine/opt/anaconda3/envs/testenv/lib/python3.9/typing.py:996: RuntimeWarning: coroutine 'get_msg' was never awaited\n",
      "  for attr in list(base.__dict__.keys()) + list(annotations.keys()):\n",
      "RuntimeWarning: Enable tracemalloc to get the object allocation traceback\n",
      "  0%|                                                                                                                                                                                     | 0/20 [00:01<?, ?it/s]\n"
     ]
    },
    {
     "ename": "AttributeError",
     "evalue": "'AllTrackViewer' object has no attribute 'boxes'",
     "output_type": "error",
     "traceback": [
      "\u001b[0;31m---------------------------------------------------------------------------\u001b[0m",
      "\u001b[0;31mAttributeError\u001b[0m                            Traceback (most recent call last)",
      "\u001b[0;32m/var/folders/36/p232bry50m1f42ncbjk74j_c0000gn/T/ipykernel_16439/3334807041.py\u001b[0m in \u001b[0;36m<module>\u001b[0;34m\u001b[0m\n\u001b[0;32m----> 1\u001b[0;31m \u001b[0mTM\u001b[0m\u001b[0;34m.\u001b[0m\u001b[0mTrackMateLiveTracks\u001b[0m\u001b[0;34m(\u001b[0m\u001b[0mLabelImage\u001b[0m\u001b[0;34m,\u001b[0m \u001b[0mLabelImage\u001b[0m\u001b[0;34m,\u001b[0m \u001b[0;32mNone\u001b[0m\u001b[0;34m,\u001b[0m\u001b[0msavedir\u001b[0m\u001b[0;34m,\u001b[0m \u001b[0mcalibration\u001b[0m\u001b[0;34m,\u001b[0m\u001b[0mall_track_properties\u001b[0m\u001b[0;34m,\u001b[0m \u001b[0;32mTrue\u001b[0m\u001b[0;34m,\u001b[0m \u001b[0mmode\u001b[0m \u001b[0;34m=\u001b[0m \u001b[0mmode\u001b[0m\u001b[0;34m)\u001b[0m\u001b[0;34m\u001b[0m\u001b[0;34m\u001b[0m\u001b[0m\n\u001b[0m",
      "\u001b[0;32m~/NapaTrackMater/napatrackmater/bTrackmate.py\u001b[0m in \u001b[0;36mTrackMateLiveTracks\u001b[0;34m(Raw, Seg, Mask, savedir, calibration, all_track_properties, DividingTrajectory, mode)\u001b[0m\n\u001b[1;32m   2109\u001b[0m     \u001b[0mviewer\u001b[0m\u001b[0;34m.\u001b[0m\u001b[0mupdate_console\u001b[0m\u001b[0;34m(\u001b[0m\u001b[0;34m{\u001b[0m\u001b[0;34m'animation'\u001b[0m\u001b[0;34m:\u001b[0m \u001b[0manimation_widget\u001b[0m\u001b[0;34m.\u001b[0m\u001b[0manimation\u001b[0m\u001b[0;34m}\u001b[0m\u001b[0;34m)\u001b[0m\u001b[0;34m\u001b[0m\u001b[0;34m\u001b[0m\u001b[0m\n\u001b[1;32m   2110\u001b[0m \u001b[0;34m\u001b[0m\u001b[0m\n\u001b[0;32m-> 2111\u001b[0;31m     AllTrackViewer(\n\u001b[0m\u001b[1;32m   2112\u001b[0m         \u001b[0mviewer\u001b[0m\u001b[0;34m,\u001b[0m\u001b[0;34m\u001b[0m\u001b[0;34m\u001b[0m\u001b[0m\n\u001b[1;32m   2113\u001b[0m         \u001b[0mRaw\u001b[0m\u001b[0;34m,\u001b[0m\u001b[0;34m\u001b[0m\u001b[0;34m\u001b[0m\u001b[0m\n",
      "\u001b[0;32m~/NapaTrackMater/napatrackmater/bTrackmate.py\u001b[0m in \u001b[0;36m__init__\u001b[0;34m(self, originalviewer, Raw, Seg, Mask, savedir, calibration, all_track_properties, ID, canvas, ax, figure, DividingTrajectory, saveplot, window_size, mode)\u001b[0m\n\u001b[1;32m   1263\u001b[0m             \u001b[0mself\u001b[0m\u001b[0;34m.\u001b[0m\u001b[0mplotintensity\u001b[0m\u001b[0;34m(\u001b[0m\u001b[0;34m)\u001b[0m\u001b[0;34m\u001b[0m\u001b[0;34m\u001b[0m\u001b[0m\n\u001b[1;32m   1264\u001b[0m         \u001b[0;32mif\u001b[0m \u001b[0mself\u001b[0m\u001b[0;34m.\u001b[0m\u001b[0mmode\u001b[0m \u001b[0;34m==\u001b[0m \u001b[0;34m'motion'\u001b[0m\u001b[0;34m:\u001b[0m\u001b[0;34m\u001b[0m\u001b[0;34m\u001b[0m\u001b[0m\n\u001b[0;32m-> 1265\u001b[0;31m             \u001b[0mself\u001b[0m\u001b[0;34m.\u001b[0m\u001b[0mmotion\u001b[0m\u001b[0;34m(\u001b[0m\u001b[0;34m)\u001b[0m\u001b[0;34m\u001b[0m\u001b[0;34m\u001b[0m\u001b[0m\n\u001b[0m\u001b[1;32m   1266\u001b[0m \u001b[0;34m\u001b[0m\u001b[0m\n\u001b[1;32m   1267\u001b[0m     \u001b[0;32mdef\u001b[0m \u001b[0mConditioncheck\u001b[0m\u001b[0;34m(\u001b[0m\u001b[0mself\u001b[0m\u001b[0;34m,\u001b[0m \u001b[0mcentroid\u001b[0m\u001b[0;34m,\u001b[0m \u001b[0mboxA\u001b[0m\u001b[0;34m,\u001b[0m \u001b[0mp\u001b[0m\u001b[0;34m,\u001b[0m \u001b[0mndim\u001b[0m\u001b[0;34m)\u001b[0m\u001b[0;34m:\u001b[0m\u001b[0;34m\u001b[0m\u001b[0;34m\u001b[0m\u001b[0m\n",
      "\u001b[0;32m~/NapaTrackMater/napatrackmater/bTrackmate.py\u001b[0m in \u001b[0;36mmotion\u001b[0;34m(self)\u001b[0m\n\u001b[1;32m   1585\u001b[0m                                     \u001b[0mtimeboxes\u001b[0m\u001b[0;34m.\u001b[0m\u001b[0mappend\u001b[0m\u001b[0;34m(\u001b[0m\u001b[0mregion\u001b[0m\u001b[0;34m.\u001b[0m\u001b[0mbbox\u001b[0m\u001b[0;34m)\u001b[0m\u001b[0;34m\u001b[0m\u001b[0;34m\u001b[0m\u001b[0m\n\u001b[1;32m   1586\u001b[0m                                     \u001b[0mtimelabels\u001b[0m\u001b[0;34m.\u001b[0m\u001b[0mappend\u001b[0m\u001b[0;34m(\u001b[0m\u001b[0mregion\u001b[0m\u001b[0;34m.\u001b[0m\u001b[0mlabel\u001b[0m\u001b[0;34m)\u001b[0m\u001b[0;34m\u001b[0m\u001b[0;34m\u001b[0m\u001b[0m\n\u001b[0;32m-> 1587\u001b[0;31m                               \u001b[0mself\u001b[0m\u001b[0;34m.\u001b[0m\u001b[0mboxes\u001b[0m\u001b[0;34m[\u001b[0m\u001b[0mi\u001b[0m\u001b[0;34m]\u001b[0m \u001b[0;34m=\u001b[0m \u001b[0;34m[\u001b[0m\u001b[0mi\u001b[0m\u001b[0;34m]\u001b[0m\u001b[0;34m\u001b[0m\u001b[0;34m\u001b[0m\u001b[0m\n\u001b[0m\u001b[1;32m   1588\u001b[0m                               \u001b[0mself\u001b[0m\u001b[0;34m.\u001b[0m\u001b[0mboxes\u001b[0m\u001b[0;34m[\u001b[0m\u001b[0mi\u001b[0m\u001b[0;34m]\u001b[0m\u001b[0;34m.\u001b[0m\u001b[0mappend\u001b[0m\u001b[0;34m(\u001b[0m\u001b[0mtimeboxes\u001b[0m\u001b[0;34m)\u001b[0m\u001b[0;34m\u001b[0m\u001b[0;34m\u001b[0m\u001b[0m\n\u001b[1;32m   1589\u001b[0m \u001b[0;34m\u001b[0m\u001b[0m\n",
      "\u001b[0;31mAttributeError\u001b[0m: 'AllTrackViewer' object has no attribute 'boxes'"
     ]
    },
    {
     "data": {
      "image/png": "[encoded data removed]",
      "text/plain": [
       "<Figure size 576x576 with 2 Axes>"
      ]
     },
     "metadata": {
      "needs_background": "light"
     },
     "output_type": "display_data"
    }
   ],
   "source": [
    "TM.TrackMateLiveTracks(LabelImage, LabelImage, None,savedir, calibration,all_track_properties, True, mode = mode)"
   ]
  },
  {
   "cell_type": "markdown",
   "metadata": {},
   "source": [
    "# Gaussian check on Non Dividing tracks"
   ]
  },
  {
   "cell_type": "code",
   "execution_count": null,
   "metadata": {
    "scrolled": false
   },
   "outputs": [],
   "source": [
    " TM.TrackMateLiveTracks(LabelImage, LabelImage, None,savedir, calibration, all_track_properties, False, mode = mode)"
   ]
  },
  {
   "cell_type": "code",
   "execution_count": null,
   "metadata": {},
   "outputs": [],
   "source": []
  }
 ],
 "metadata": {
  "kernelspec": {
   "display_name": "Python [conda env:testenv]",
   "language": "python",
   "name": "conda-env-testenv-py"
  },
  "language_info": {
   "codemirror_mode": {
    "name": "ipython",
    "version": 3
   },
   "file_extension": ".py",
   "mimetype": "text/x-python",
   "name": "python",
   "nbconvert_exporter": "python",
   "pygments_lexer": "ipython3",
   "version": "3.9.0"
  }
 },
 "nbformat": 4,
 "nbformat_minor": 2
}
