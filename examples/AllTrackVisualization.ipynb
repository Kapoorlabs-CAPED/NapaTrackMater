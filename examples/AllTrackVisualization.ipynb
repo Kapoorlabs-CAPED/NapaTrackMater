{
 "cells": [
  {
   "cell_type": "code",
   "execution_count": 1,
   "metadata": {},
   "outputs": [],
   "source": [
    "import sys\n",
    "sys.path.append('../')\n",
    "import numpy as np\n",
    "import os\n",
    "from tifffile import imread, imwrite\n",
    "import matplotlib.pyplot as plt\n",
    "import napari\n",
    "import napatrackmater.bTrackmate as TM"
   ]
  },
  {
   "cell_type": "code",
   "execution_count": 2,
   "metadata": {},
   "outputs": [],
   "source": [
    "#Trackmate writes an XML file of tracks, we use it as input\n",
    "xml_path = '/home/sancere/VKepler/ClaudiaTracking/DUP_143G_GFP_Raw.xml' \n",
    "#Path to Segmentation image for extracting any track information from labels \n",
    "LabelImage = '/home/sancere/VKepler/ClaudiaTracking/20210912_143G_N1TOM_day5_region3_each10min_zoom07_FINAL_GFP.tif'\n",
    "#Path to Raw image to display the tracks on (optional) else set it to None\n",
    "RawImage = '/home/sancere/VKepler/ClaudiaTracking/143G_GFP_Raw.tif'\n",
    "savedir = '/home/sancere/VKepler/ClaudiaTracking/Results/'\n",
    "MaskImage = '/home/sancere/VKepler/ClaudiaTracking/TRL_Final.tif'"
   ]
  },
  {
   "cell_type": "code",
   "execution_count": 3,
   "metadata": {
    "scrolled": false
   },
   "outputs": [
    {
     "name": "stderr",
     "output_type": "stream",
     "text": [
      "100%|████████████████████████████████████████████████████████████████████████████████████████████████████████████████████████████████████████████████████████████████████████████| 152/152 [14:01<00:00,  5.53s/it]\n"
     ]
    }
   ],
   "source": [
    "all_track_properties, Mask, calibration = TM.import_TM_XML(xml_path, RawImage, LabelImage,MaskImage)\n"
   ]
  },
  {
   "cell_type": "markdown",
   "metadata": {},
   "source": [
    "# Visualize All tracks"
   ]
  },
  {
   "cell_type": "code",
   "execution_count": 4,
   "metadata": {
    "scrolled": true
   },
   "outputs": [
    {
     "data": {
      "image/png": "[encoded data removed]",
      "text/plain": [
       "<Figure size 400x593 with 2 Axes>"
      ]
     },
     "metadata": {
      "needs_background": "light"
     },
     "output_type": "display_data"
    }
   ],
   "source": [
    "TM.ShowAllTracks(RawImage, LabelImage, Mask,savedir, calibration,all_track_properties)"
   ]
  },
  {
   "cell_type": "code",
   "execution_count": null,
   "metadata": {},
   "outputs": [],
   "source": []
  }
 ],
 "metadata": {
  "kernelspec": {
   "display_name": "Python 3",
   "language": "python",
   "name": "python3"
  },
  "language_info": {
   "codemirror_mode": {
    "name": "ipython",
    "version": 3
   },
   "file_extension": ".py",
   "mimetype": "text/x-python",
   "name": "python",
   "nbconvert_exporter": "python",
   "pygments_lexer": "ipython3",
   "version": "3.9.0"
  }
 },
 "nbformat": 4,
 "nbformat_minor": 2
}
