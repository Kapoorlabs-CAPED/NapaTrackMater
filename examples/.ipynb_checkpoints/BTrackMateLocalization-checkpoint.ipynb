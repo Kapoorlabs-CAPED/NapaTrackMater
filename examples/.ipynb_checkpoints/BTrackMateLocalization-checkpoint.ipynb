{
 "cells": [
  {
   "cell_type": "markdown",
   "metadata": {},
   "source": [
    "# Checkpoint Maker for Fiji bTrackmate\n",
    "\n",
    "In this notebook we create attributes of the segmented cells in 3D to create the csv file of cell properties compatiable with both Fiji bTrackmate. \n",
    "\n",
    "The Fiji csv file has the headers:\n",
    "\n",
    "T X Y Z Label Perimeter Volume Intensity ExtentX ExtentY ExtentZ\n",
    "\n",
    "These columns are read in by bTrackmate csv reader and it creates the SpotCollection for tracking\n"
   ]
  },
  {
   "cell_type": "code",
   "execution_count": null,
   "metadata": {},
   "outputs": [],
   "source": [
    "import os\n",
    "import sys\n",
    "import napatrackmater\n",
    "from tifffile import imread\n",
    "from napatrackmater import bTrackmate\n",
    "from pathlib import Path"
   ]
  },
  {
   "cell_type": "code",
   "execution_count": null,
   "metadata": {},
   "outputs": [],
   "source": [
    "ImageName = '/home/sancere/Downloads/CellTracking/Raw.tif'\n",
    "SegImageName = '/home/sancere/Downloads/CellTracking/SEG.tif'\n",
    "MaskImageName = None #'/home/kapoorlab/Claudia/105E_Day6_Mask.tif'\n",
    "savedir = '/home/sancere/Downloads/CellTracking/'\n",
    "Name = os.path.basename(os.path.splitext(ImageName)[0])\n",
    "Path(savedir).mkdir(exist_ok = True)\n"
   ]
  },
  {
   "cell_type": "code",
   "execution_count": null,
   "metadata": {},
   "outputs": [],
   "source": [
    "print('Reading Image')  \n",
    "image = imread(ImageName)\n",
    "print('Reading Segmentation Image')  \n",
    "segimage = imread(SegImageName).astype('uint16')  \n",
    "\n",
    "if MaskImageName is not None:\n",
    "    Mask = imread(MaskImageName)\n",
    "else:\n",
    "    Mask = None    \n",
    "print('Generating checkpoint CSV files for bTrackmate')\n",
    "bTrackmate.CreateTrackCheckpoint(image, segimage, Mask, Name, savedir)"
   ]
  },
  {
   "cell_type": "code",
   "execution_count": null,
   "metadata": {},
   "outputs": [],
   "source": []
  },
  {
   "cell_type": "code",
   "execution_count": null,
   "metadata": {},
   "outputs": [],
   "source": []
  }
 ],
 "metadata": {
  "kernelspec": {
   "display_name": "Python [conda env:testenv] *",
   "language": "python",
   "name": "conda-env-testenv-py"
  },
  "language_info": {
   "codemirror_mode": {
    "name": "ipython",
    "version": 3
   },
   "file_extension": ".py",
   "mimetype": "text/x-python",
   "name": "python",
   "nbconvert_exporter": "python",
   "pygments_lexer": "ipython3",
   "version": "3.9.0"
  }
 },
 "nbformat": 4,
 "nbformat_minor": 4
}
