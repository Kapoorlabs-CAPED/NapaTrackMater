{
 "cells": [
  {
   "cell_type": "markdown",
   "metadata": {},
   "source": [
    "# Checkpoint Maker for Fiji bTrackmate\n",
    "\n",
    "Create csv file of cell attributes for bTM \n",
    "\n",
    "The Fiji csv file has the headers:\n",
    "\n",
    "T X Y Z Label Perimeter Volume Intensity ExtentX ExtentY ExtentZ\n",
    "\n",
    "These columns are read in by bTrackmate csv reader and it creates\n",
    "\n",
    "TM SpotCollection for tracking\n"
   ]
  },
  {
   "cell_type": "code",
   "execution_count": 1,
   "metadata": {},
   "outputs": [],
   "source": [
    "import os\n",
    "import sys\n",
    "import napatrackmater\n",
    "from napatrackmater import bTrackmate\n",
    "from pathlib import Path"
   ]
  },
  {
   "cell_type": "code",
   "execution_count": 2,
   "metadata": {},
   "outputs": [],
   "source": [
    "ImageName = 'data/Raw.tif'\n",
    "LabelName = 'data/Seg.tif'\n",
    "MaskName = 'data/Mask.tif'\n",
    "savedir = 'output/'\n",
    "Name = os.path.basename(os.path.splitext(ImageName)[0])\n",
    "Path(savedir).mkdir(exist_ok = True)\n"
   ]
  },
  {
   "cell_type": "code",
   "execution_count": 3,
   "metadata": {},
   "outputs": [
    {
     "name": "stderr",
     "output_type": "stream",
     "text": [
      "\r",
      "  0%|          | 0/190 [00:00<?, ?it/s]"
     ]
    },
    {
     "name": "stdout",
     "output_type": "stream",
     "text": [
      "Image has shape: (190, 31, 512, 712)\n",
      "Image Dimensions: 4\n"
     ]
    },
    {
     "name": "stderr",
     "output_type": "stream",
     "text": [
      "100%|██████████| 190/190 [00:34<00:00,  5.44it/s]\n"
     ]
    }
   ],
   "source": [
    "bTrackmate.CreateTrackCheckpoint(ImageName, LabelName, MaskName, Name, savedir)"
   ]
  }
 ],
 "metadata": {
  "kernelspec": {
   "display_name": "Python [conda env:testenv]",
   "language": "python",
   "name": "conda-env-testenv-py"
  },
  "language_info": {
   "codemirror_mode": {
    "name": "ipython",
    "version": 3
   },
   "file_extension": ".py",
   "mimetype": "text/x-python",
   "name": "python",
   "nbconvert_exporter": "python",
   "pygments_lexer": "ipython3",
   "version": "3.9.0"
  }
 },
 "nbformat": 4,
 "nbformat_minor": 4
}
