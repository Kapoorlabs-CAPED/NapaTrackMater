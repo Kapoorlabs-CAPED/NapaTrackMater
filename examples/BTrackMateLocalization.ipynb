{
 "cells": [
  {
   "cell_type": "markdown",
   "metadata": {},
   "source": [
    "# Checkpoint Maker for Fiji bTrackmate\n",
    "\n",
    "Create csv file of cell attributes for bTM \n",
    "\n",
    "The Fiji csv file has the headers:\n",
    "\n",
    "T X Y Z Label Perimeter Volume Intensity ExtentX ExtentY ExtentZ\n",
    "\n",
    "These columns are read in by bTrackmate csv reader and it creates\n",
    "\n",
    "TM SpotCollection for tracking\n"
   ]
  },
  {
   "cell_type": "code",
   "execution_count": 4,
   "metadata": {},
   "outputs": [],
   "source": [
    "from pathlib import Path\n",
    "\n",
    "import napatrackmater\n",
    "from napatrackmater import bTrackmate\n"
   ]
  },
  {
   "cell_type": "code",
   "execution_count": 5,
   "metadata": {},
   "outputs": [],
   "source": [
    "RawPath = Path('data/Raw.tif')\n",
    "SegPath = Path('data/Seg.tif')\n",
    "MaskPath = Path('data/Mask.tif')\n",
    "savedir = Path('output/')\n",
    "savedir.mkdir(exist_ok = True)\n",
    "Name = RawPath.stem\n"
   ]
  },
  {
   "cell_type": "code",
   "execution_count": 8,
   "metadata": {},
   "outputs": [
    {
     "name": "stderr",
     "output_type": "stream",
     "text": [
      "  1%|          | 1/190 [00:00<00:23,  7.88it/s]"
     ]
    },
    {
     "name": "stdout",
     "output_type": "stream",
     "text": [
      "Image has shape: (190, 31, 512, 712)\n",
      "Image Dimensions: 4\n"
     ]
    },
    {
     "name": "stderr",
     "output_type": "stream",
     "text": [
      "100%|██████████| 190/190 [00:21<00:00,  8.90it/s]\n"
     ]
    }
   ],
   "source": [
    "bTrackmate.CreateTrackCheckpoint(str(RawPath), str(SegPath), str(MaskPath), Name, str(savedir))"
   ]
  },
  {
   "cell_type": "code",
   "execution_count": null,
   "metadata": {},
   "outputs": [],
   "source": []
  }
 ],
 "metadata": {
  "kernelspec": {
   "display_name": "Python 3",
   "language": "python",
   "name": "python3"
  },
  "language_info": {
   "codemirror_mode": {
    "name": "ipython",
    "version": 3
   },
   "file_extension": ".py",
   "mimetype": "text/x-python",
   "name": "python",
   "nbconvert_exporter": "python",
   "pygments_lexer": "ipython3",
   "version": "3.9.4"
  }
 },
 "nbformat": 4,
 "nbformat_minor": 4
}
