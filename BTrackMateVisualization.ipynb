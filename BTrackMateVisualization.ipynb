{
 "cells": [
  {
   "cell_type": "code",
   "execution_count": 1,
   "metadata": {},
   "outputs": [],
   "source": [
    "import sys\n",
    "import numpy as np\n",
    "import os\n",
    "from tifffile import imread, imwrite\n",
    "import matplotlib.pyplot as plt\n",
    "import napari\n",
    "from tifffile import imread\n",
    "import napatrackmater.bTrackmate as TM"
   ]
  },
  {
   "cell_type": "code",
   "execution_count": 2,
   "metadata": {},
   "outputs": [],
   "source": [
    "#Trackmate writes an XML file of tracks, we use it as input\n",
    "xml_path = '/home/kapoorlab/Downloads/CellTracking/DUP_Raw.xml' \n",
    "#Path to Segmentation image for extracting any track information from labels \n",
    "SegmentationImage = '/home/kapoorlab/Downloads/CellTracking/SEG.tif'\n",
    "#Path to Raw image to display the tracks on (optional) else set it to None\n",
    "RawImage = None #'/home/kapoorlab/Downloads/CellTracking/Raw.tif'\n",
    "savedir = '/home/kapoorlab/Downloads/CellTracking/save/'\n",
    "\n",
    "MaskImage = None"
   ]
  },
  {
   "cell_type": "code",
   "execution_count": 3,
   "metadata": {},
   "outputs": [],
   "source": [
    "Seg = imread(SegmentationImage).astype('uint16')\n",
    "if RawImage is not None:\n",
    "  ImageName = os.path.basename(os.path.splitext(RawImage)[0])\n",
    "  Raw = imread(RawImage).astype('float16')\n",
    "  \n",
    "else:\n",
    "  Raw = None   \n",
    "  ImageName = os.path.basename(os.path.splitext(SegmentationImage)[0]) \n",
    "if MaskImage is not None:\n",
    "    Mask = imread(MaskImage)\n",
    "else:\n",
    "    \n",
    "    #Mask = np.zeros_like(Seg)\n",
    "    #Mask[:,:,50:Mask.shape[2]-50,50:Mask.shape[3]-50] = 1\n",
    "    Mask = None\n",
    "   "
   ]
  },
  {
   "cell_type": "code",
   "execution_count": 4,
   "metadata": {
    "scrolled": false
   },
   "outputs": [
    {
     "name": "stdout",
     "output_type": "stream",
     "text": [
      "Creating Tracklets of TrackID 0\n",
      "Is a Dividing track: True\n",
      "Creating Tracklets of TrackID 1\n",
      "Is a Dividing track: True\n",
      "Creating Tracklets of TrackID 2\n",
      "Is a Dividing track: False\n",
      "Creating Tracklets of TrackID 3\n",
      "Is a Dividing track: True\n",
      "Creating Tracklets of TrackID 4\n",
      "Is a Dividing track: True\n",
      "Creating Tracklets of TrackID 5\n",
      "Is a Dividing track: True\n",
      "Creating Tracklets of TrackID 6\n",
      "Is a Dividing track: True\n"
     ]
    }
   ],
   "source": [
    "all_track_properties, calibration = TM.import_TM_XML(xml_path, Seg, image = RawImage, Mask = None)\n"
   ]
  },
  {
   "cell_type": "markdown",
   "metadata": {},
   "source": [
    "# Visualize Dividing tracks"
   ]
  },
  {
   "cell_type": "code",
   "execution_count": 5,
   "metadata": {
    "scrolled": true
   },
   "outputs": [
    {
     "name": "stdout",
     "output_type": "stream",
     "text": [
      "False /home/kapoorlab/Downloads/CellTracking/save/ 1\n",
      "False 2 None 0\n",
      "False 2 None 1\n",
      "False 2 None 2\n",
      "False 2 None 3\n",
      "False 2 None 4\n",
      "False 2 None 5\n",
      "False 2 None 6\n"
     ]
    },
    {
     "data": {
      "image/png": "[encoded data removed]",
      "text/plain": [
       "<Figure size 216x216 with 4 Axes>"
      ]
     },
     "metadata": {
      "needs_background": "light"
     },
     "output_type": "display_data"
    }
   ],
   "source": [
    "TM.TrackMateLiveTracks(Raw, Seg, Mask,savedir, calibration,  all_track_properties, True)"
   ]
  },
  {
   "cell_type": "markdown",
   "metadata": {},
   "source": [
    "# Visualize Non Dividing tracks"
   ]
  },
  {
   "cell_type": "code",
   "execution_count": null,
   "metadata": {
    "scrolled": false
   },
   "outputs": [],
   "source": [
    " TM.TrackMateLiveTracks(Raw, Seg, Mask,savedir, calibration, all_track_properties, False)"
   ]
  },
  {
   "cell_type": "code",
   "execution_count": null,
   "metadata": {},
   "outputs": [],
   "source": []
  },
  {
   "cell_type": "code",
   "execution_count": null,
   "metadata": {},
   "outputs": [],
   "source": []
  }
 ],
 "metadata": {
  "kernelspec": {
   "display_name": "Python 3",
   "language": "python",
   "name": "python3"
  },
  "language_info": {
   "codemirror_mode": {
    "name": "ipython",
    "version": 3
   },
   "file_extension": ".py",
   "mimetype": "text/x-python",
   "name": "python",
   "nbconvert_exporter": "python",
   "pygments_lexer": "ipython3",
   "version": "3.7.10"
  }
 },
 "nbformat": 4,
 "nbformat_minor": 2
}
