{
 "cells": [
  {
   "cell_type": "code",
   "execution_count": 1,
   "id": "57ba14f3",
   "metadata": {},
   "outputs": [
    {
     "name": "stderr",
     "output_type": "stream",
     "text": [
      "C:\\Users\\rando\\anaconda3\\envs\\naparienv\\lib\\site-packages\\numpy\\_distributor_init.py:30: UserWarning: loaded more than 1 DLL from .libs:\n",
      "C:\\Users\\rando\\anaconda3\\envs\\naparienv\\lib\\site-packages\\numpy\\.libs\\libopenblas.4SP5SUA7CBGXUEOC35YP2ASOICYYEQZZ.gfortran-win_amd64.dll\n",
      "C:\\Users\\rando\\anaconda3\\envs\\naparienv\\lib\\site-packages\\numpy\\.libs\\libopenblas.XWYDX2IKJW2NMTWSFYNGFUWKQU3LYTCZ.gfortran-win_amd64.dll\n",
      "  warnings.warn(\"loaded more than 1 DLL from .libs:\"\n",
      "napari.manifest -> 'skeleton-finder' could not be imported: Cannot find module 'skeleton_finder' declared in entrypoint: 'skeleton_finder:napari.yaml'\n",
      "C:\\Users\\rando\\anaconda3\\envs\\naparienv\\lib\\site-packages\\superqt\\qtcompat\\__init__.py:7: UserWarning: The superqt.qtcompat module is deprecated as of v0.3.0. Please import from `qtpy` instead.\n",
      "  warnings.warn(\n",
      "C:\\Users\\rando\\anaconda3\\envs\\naparienv\\lib\\site-packages\\napari_tools_menu\\__init__.py:179: FutureWarning: Public access to Window.qt_viewer is deprecated and will be removed in\n",
      "v0.5.0. It is considered an \"implementation detail\" of the napari\n",
      "application, not part of the napari viewer model. If your use case\n",
      "requires access to qt_viewer, please open an issue to discuss.\n",
      "  self.tools_menu = ToolsMenu(self, self.qt_viewer.viewer)\n"
     ]
    }
   ],
   "source": [
    "import napari\n",
    "from skimage import data\n",
    "\n",
    "hubble_image = data.hubble_deep_field()\n",
    "\n",
    "tracks_data = [\n",
    "    [1, 1, 236, 0],\n",
    "    [1, 1, 236, 100],\n",
    "    [1, 1, 236, 200],\n",
    "    [1, 1, 236, 500],\n",
    "    [1, 1, 236, 1000],\n",
    "    [2, 1, 436, 0],\n",
    "    [2, 1, 436, 100],\n",
    "    [2, 2, 436, 200],\n",
    "    [2, 1, 436, 500],\n",
    "    [2, 4, 436, 1000],\n",
    "    [3, 1, 636, 0],\n",
    "    [3, 1, 636, 100],\n",
    "    [3, 2, 636, 200],\n",
    "    [3, 3, 636, 500],\n",
    "    [3, 4, 636, 1000]\n",
    "]\n",
    "\n",
    "viewer = napari.Viewer()\n",
    "viewer.add_tracks(tracks_data, name='tracks')\n",
    "\n",
    "napari.run()"
   ]
  },
  {
   "cell_type": "code",
   "execution_count": null,
   "id": "dc1b4496",
   "metadata": {},
   "outputs": [],
   "source": []
  }
 ],
 "metadata": {
  "kernelspec": {
   "display_name": "Python 3 (ipykernel)",
   "language": "python",
   "name": "python3"
  },
  "language_info": {
   "codemirror_mode": {
    "name": "ipython",
    "version": 3
   },
   "file_extension": ".py",
   "mimetype": "text/x-python",
   "name": "python",
   "nbconvert_exporter": "python",
   "pygments_lexer": "ipython3",
   "version": "3.9.0"
  }
 },
 "nbformat": 4,
 "nbformat_minor": 5
}
