{
 "cells": [
  {
   "cell_type": "markdown",
   "metadata": {},
   "source": [
    "In this notebook we read in the Master XML file made using NapaTrackMater and create N, Delta times Attribute dimensional vectors. N being the number of tracks present in the chosen region, R, Delta being the chosen time interval (t_minus + t_plus) {t - t_minus, t + t_plus} and Attributes being the morphological and the dynamic properties associated with cells in the tracks. We concatenate the Attribute componenets over the chosen time interval to create a Delta times Attribute dimensional vector and create a pandas dataframe with these vectors for further analysis."
   ]
  },
  {
   "cell_type": "code",
   "execution_count": null,
   "metadata": {},
   "outputs": [],
   "source": [
    "!pip install napatrackmater\n",
    "!pip install git+https://github.com/kapoorlab/cellshape-helper\n",
    "!pip install git+https://github.com/kapoorlab/cellshape-cloud\n",
    "!pip install git+https://github.com/kapoorlab/cellshape-cluster    "
   ]
  },
  {
   "cell_type": "code",
   "execution_count": 1,
   "metadata": {},
   "outputs": [],
   "source": [
    "%gui qt5\n",
    "from napatrackmater.Trackvector import TrackVector\n",
    "from pathlib import Path\n",
    "from ipywidgets import interactive, widgets\n",
    "from IPython.display import display\n",
    "import napari \n",
    "from tifffile import imread\n",
    "import pandas as pd\n",
    "import matplotlib.pyplot as plt\n",
    "import numpy as np"
   ]
  },
  {
   "cell_type": "code",
   "execution_count": 2,
   "metadata": {},
   "outputs": [],
   "source": [
    "master_xml_path = Path('C:/Users/rando/Downloads/Mari_project/gt/master_gt_star_hyperstack.xml')\n",
    "spot_csv_path = Path('C:/Users/rando/Downloads/Mari_project/gt/spots.csv')\n",
    "track_csv_path = Path('C:/Users/rando/Downloads/Mari_project/gt/tracks.csv')\n",
    "edges_csv_path = Path('C:/Users/rando/Downloads/Mari_project/gt/edges.csv')\n",
    "image = imread('C:/Users/rando/Downloads/Mari_project/gt/rawk.tif')\n",
    "show_tracks = False\n",
    "\n",
    "shape_dynamic_dict = {'Time':0, 'Track ID':1,  'Dividing':2, 'Number_Dividing':3,  'Radius':4, 'Volume':5,'Eccentricity Comp First':6, 'Eccentricity Comp Second':7, 'Surface Area':8, 'Cluster Class':9, 'Speed':10, 'Directional_Change_Rate':11, 'Acceleration':12}"
   ]
  },
  {
   "cell_type": "markdown",
   "metadata": {},
   "source": []
  },
  {
   "cell_type": "code",
   "execution_count": 3,
   "metadata": {},
   "outputs": [
    {
     "name": "stdout",
     "output_type": "stream",
     "text": [
      "Reading Master XML\n",
      "Iterating over spots in frame\n",
      "Iterating over tracks 547\n",
      "getting attributes\n",
      "obtianed spot attributes\n",
      "obtained track attributes\n",
      "obtained edge attributes\n"
     ]
    }
   ],
   "source": [
    "if show_tracks:\n",
    "  viewer = napari.Viewer()\n",
    "else:\n",
    "    viewer = None\n",
    "track_vectors = TrackVector(viewer,image,master_xml_path,spot_csv_path, track_csv_path, edges_csv_path, show_tracks = show_tracks)"
   ]
  },
  {
   "cell_type": "code",
   "execution_count": 4,
   "metadata": {},
   "outputs": [],
   "source": [
    "def track_setter(deltat, deltax, deltay):\n",
    "    track_vectors.t_minus = deltat[0]\n",
    "    track_vectors.t_plus = deltat[-1]\n",
    "    \n",
    "    track_vectors.x_start = deltax[0]\n",
    "    track_vectors.x_end = deltax[-1]\n",
    "    \n",
    "    track_vectors.y_start = deltay[0]\n",
    "    track_vectors.y_end = deltay[-1]\n",
    "    "
   ]
  },
  {
   "cell_type": "code",
   "execution_count": 5,
   "metadata": {
    "scrolled": true
   },
   "outputs": [
    {
     "data": {
      "application/vnd.jupyter.widget-view+json": {
       "model_id": "922e36b271b14546b9343c50ae5962e4",
       "version_major": 2,
       "version_minor": 0
      },
      "text/plain": [
       "interactive(children=(IntRangeSlider(value=(0, 265), continuous_update=False, description='Delta Time', max=26…"
      ]
     },
     "execution_count": 5,
     "metadata": {},
     "output_type": "execute_result"
    }
   ],
   "source": [
    "track_vector_widgets = interactive(track_setter, deltat = widgets.IntRangeSlider(\n",
    "    value=[track_vectors.tstart, track_vectors.tend],\n",
    "    min= track_vectors.tstart,\n",
    "    max=track_vectors.tend,\n",
    "    step=1,\n",
    "    description='Delta Time',\n",
    "    disabled=False,\n",
    "    continuous_update=False,\n",
    "    orientation='horizontal',\n",
    "    readout=True,\n",
    "    readout_format='d',\n",
    "), \n",
    "    deltax = widgets.IntRangeSlider(\n",
    "    value=[track_vectors.xmin, track_vectors.xmax],\n",
    "    min= track_vectors.xmin,\n",
    "    max=track_vectors.xmax,\n",
    "    step=1,\n",
    "    description='Delta X',\n",
    "    disabled=False,\n",
    "    continuous_update=False,\n",
    "    orientation='horizontal',\n",
    "    readout=True,\n",
    "    readout_format='d',\n",
    "), \n",
    "    deltay = widgets.IntRangeSlider(\n",
    "    value=[track_vectors.ymin, track_vectors.ymax],\n",
    "    min= track_vectors.ymin,\n",
    "    max=track_vectors.ymax,\n",
    "    step=1,\n",
    "    description='Delta Y',\n",
    "    disabled=False,\n",
    "    continuous_update=False,\n",
    "    orientation='horizontal',\n",
    "    readout=True,\n",
    "    readout_format='d',\n",
    "),                               \n",
    "                                  \n",
    "                                  )\n",
    "\n",
    "track_vector_widgets"
   ]
  },
  {
   "cell_type": "code",
   "execution_count": 6,
   "metadata": {},
   "outputs": [
    {
     "name": "stdout",
     "output_type": "stream",
     "text": [
      "returning shape and dynamic vectors as list 618\n"
     ]
    }
   ],
   "source": [
    "track_vectors._interactive_function()"
   ]
  },
  {
   "cell_type": "code",
   "execution_count": 7,
   "metadata": {},
   "outputs": [],
   "source": [
    "current_shape_dynamic_vectors = track_vectors.current_shape_dynamic_vectors"
   ]
  },
  {
   "cell_type": "code",
   "execution_count": 41,
   "metadata": {},
   "outputs": [],
   "source": [
    "global_shape_dynamic_dataframe = []\n",
    "for i in range(len(current_shape_dynamic_vectors)):\n",
    "   \n",
    "   vector_list = list(zip(current_shape_dynamic_vectors[i]))\n",
    "   data_frame_list = np.transpose(np.asarray([vector_list[i] for i in range(len(vector_list))])[:,0,:]) \n",
    "   \n",
    "   shape_dynamic_dataframe = pd.DataFrame(data_frame_list, columns =['Time', 'Track ID',  'Dividing', 'Number_Dividing',  'Radius', 'Volume', 'Eccentricity Comp First', 'Eccentricity Comp Second', 'Surface Area', 'Cluster Class', 'Speed', 'Directional_Change_Rate', 'Acceleration'])\n",
    "   if len(global_shape_dynamic_dataframe) == 0:\n",
    "        global_shape_dynamic_dataframe = shape_dynamic_dataframe\n",
    "   else:\n",
    "        global_shape_dynamic_dataframe = pd.concat([global_shape_dynamic_dataframe, shape_dynamic_dataframe],ignore_index=False)\n",
    "   global_shape_dynamic_dataframe.set_index('Track ID')"
   ]
  },
  {
   "cell_type": "code",
   "execution_count": 42,
   "metadata": {},
   "outputs": [
    {
     "data": {
      "text/html": [
       "<div>\n",
       "<style scoped>\n",
       "    .dataframe tbody tr th:only-of-type {\n",
       "        vertical-align: middle;\n",
       "    }\n",
       "\n",
       "    .dataframe tbody tr th {\n",
       "        vertical-align: top;\n",
       "    }\n",
       "\n",
       "    .dataframe thead th {\n",
       "        text-align: right;\n",
       "    }\n",
       "</style>\n",
       "<table border=\"1\" class=\"dataframe\">\n",
       "  <thead>\n",
       "    <tr style=\"text-align: right;\">\n",
       "      <th></th>\n",
       "      <th>Time</th>\n",
       "      <th>Track ID</th>\n",
       "      <th>Dividing</th>\n",
       "      <th>Number_Dividing</th>\n",
       "      <th>Radius</th>\n",
       "      <th>Volume</th>\n",
       "      <th>Eccentricity Comp First</th>\n",
       "      <th>Eccentricity Comp Second</th>\n",
       "      <th>Surface Area</th>\n",
       "      <th>Cluster Class</th>\n",
       "      <th>Speed</th>\n",
       "      <th>Directional_Change_Rate</th>\n",
       "      <th>Acceleration</th>\n",
       "    </tr>\n",
       "  </thead>\n",
       "  <tbody>\n",
       "    <tr>\n",
       "      <th>0</th>\n",
       "      <td>56.0</td>\n",
       "      <td>0.0</td>\n",
       "      <td>0.0</td>\n",
       "      <td>0.0</td>\n",
       "      <td>5.535109</td>\n",
       "      <td>746.0</td>\n",
       "      <td>2.161779</td>\n",
       "      <td>1.974284</td>\n",
       "      <td>1.138869</td>\n",
       "      <td>1.0</td>\n",
       "      <td>0.014182</td>\n",
       "      <td>32.186254</td>\n",
       "      <td>0.013397</td>\n",
       "    </tr>\n",
       "    <tr>\n",
       "      <th>1</th>\n",
       "      <td>3.0</td>\n",
       "      <td>0.0</td>\n",
       "      <td>0.0</td>\n",
       "      <td>0.0</td>\n",
       "      <td>5.912002</td>\n",
       "      <td>909.0</td>\n",
       "      <td>2.032241</td>\n",
       "      <td>1.730945</td>\n",
       "      <td>1.266064</td>\n",
       "      <td>1.0</td>\n",
       "      <td>0.020573</td>\n",
       "      <td>14.295329</td>\n",
       "      <td>0.005185</td>\n",
       "    </tr>\n",
       "    <tr>\n",
       "      <th>2</th>\n",
       "      <td>46.0</td>\n",
       "      <td>0.0</td>\n",
       "      <td>0.0</td>\n",
       "      <td>0.0</td>\n",
       "      <td>6.07443</td>\n",
       "      <td>986.0</td>\n",
       "      <td>2.527924</td>\n",
       "      <td>2.259719</td>\n",
       "      <td>1.38962</td>\n",
       "      <td>1.0</td>\n",
       "      <td>0.008633</td>\n",
       "      <td>66.5147</td>\n",
       "      <td>0.031786</td>\n",
       "    </tr>\n",
       "    <tr>\n",
       "      <th>3</th>\n",
       "      <td>33.0</td>\n",
       "      <td>0.0</td>\n",
       "      <td>0.0</td>\n",
       "      <td>0.0</td>\n",
       "      <td>6.648843</td>\n",
       "      <td>1293.0</td>\n",
       "      <td>2.192017</td>\n",
       "      <td>1.585482</td>\n",
       "      <td>1.596446</td>\n",
       "      <td>1.0</td>\n",
       "      <td>0.021719</td>\n",
       "      <td>129.498014</td>\n",
       "      <td>0.070329</td>\n",
       "    </tr>\n",
       "    <tr>\n",
       "      <th>4</th>\n",
       "      <td>20.0</td>\n",
       "      <td>0.0</td>\n",
       "      <td>0.0</td>\n",
       "      <td>0.0</td>\n",
       "      <td>8.011444</td>\n",
       "      <td>2262.0</td>\n",
       "      <td>1.92605</td>\n",
       "      <td>1.662763</td>\n",
       "      <td>2.353811</td>\n",
       "      <td>0.0</td>\n",
       "      <td>0.023955</td>\n",
       "      <td>65.897578</td>\n",
       "      <td>0.026411</td>\n",
       "    </tr>\n",
       "  </tbody>\n",
       "</table>\n",
       "</div>"
      ],
      "text/plain": [
       "   Time Track ID Dividing Number_Dividing    Radius  Volume  \\\n",
       "0  56.0      0.0      0.0             0.0  5.535109   746.0   \n",
       "1   3.0      0.0      0.0             0.0  5.912002   909.0   \n",
       "2  46.0      0.0      0.0             0.0   6.07443   986.0   \n",
       "3  33.0      0.0      0.0             0.0  6.648843  1293.0   \n",
       "4  20.0      0.0      0.0             0.0  8.011444  2262.0   \n",
       "\n",
       "  Eccentricity Comp First Eccentricity Comp Second Surface Area Cluster Class  \\\n",
       "0                2.161779                 1.974284     1.138869           1.0   \n",
       "1                2.032241                 1.730945     1.266064           1.0   \n",
       "2                2.527924                 2.259719      1.38962           1.0   \n",
       "3                2.192017                 1.585482     1.596446           1.0   \n",
       "4                 1.92605                 1.662763     2.353811           0.0   \n",
       "\n",
       "      Speed Directional_Change_Rate Acceleration  \n",
       "0  0.014182               32.186254     0.013397  \n",
       "1  0.020573               14.295329     0.005185  \n",
       "2  0.008633                 66.5147     0.031786  \n",
       "3  0.021719              129.498014     0.070329  \n",
       "4  0.023955               65.897578     0.026411  "
      ]
     },
     "execution_count": 42,
     "metadata": {},
     "output_type": "execute_result"
    }
   ],
   "source": [
    "global_shape_dynamic_dataframe.head()"
   ]
  },
  {
   "cell_type": "code",
   "execution_count": 43,
   "metadata": {},
   "outputs": [
    {
     "data": {
      "text/html": [
       "<div>\n",
       "<style scoped>\n",
       "    .dataframe tbody tr th:only-of-type {\n",
       "        vertical-align: middle;\n",
       "    }\n",
       "\n",
       "    .dataframe tbody tr th {\n",
       "        vertical-align: top;\n",
       "    }\n",
       "\n",
       "    .dataframe thead th {\n",
       "        text-align: right;\n",
       "    }\n",
       "</style>\n",
       "<table border=\"1\" class=\"dataframe\">\n",
       "  <thead>\n",
       "    <tr style=\"text-align: right;\">\n",
       "      <th></th>\n",
       "      <th>Time</th>\n",
       "      <th>Track ID</th>\n",
       "      <th>Dividing</th>\n",
       "      <th>Number_Dividing</th>\n",
       "      <th>Radius</th>\n",
       "      <th>Volume</th>\n",
       "      <th>Eccentricity Comp First</th>\n",
       "      <th>Eccentricity Comp Second</th>\n",
       "      <th>Surface Area</th>\n",
       "      <th>Cluster Class</th>\n",
       "      <th>Speed</th>\n",
       "      <th>Directional_Change_Rate</th>\n",
       "      <th>Acceleration</th>\n",
       "    </tr>\n",
       "  </thead>\n",
       "  <tbody>\n",
       "    <tr>\n",
       "      <th>4</th>\n",
       "      <td>263.0</td>\n",
       "      <td>547.0</td>\n",
       "      <td>0.0</td>\n",
       "      <td>0.0</td>\n",
       "      <td>6.330451</td>\n",
       "      <td>1116.0</td>\n",
       "      <td>3.256237</td>\n",
       "      <td>1.715262</td>\n",
       "      <td>1.499854</td>\n",
       "      <td>1.0</td>\n",
       "      <td>0.005027</td>\n",
       "      <td>40.214865</td>\n",
       "      <td>0.003399</td>\n",
       "    </tr>\n",
       "    <tr>\n",
       "      <th>5</th>\n",
       "      <td>264.0</td>\n",
       "      <td>547.0</td>\n",
       "      <td>0.0</td>\n",
       "      <td>0.0</td>\n",
       "      <td>6.055892</td>\n",
       "      <td>977.0</td>\n",
       "      <td>3.316175</td>\n",
       "      <td>1.530034</td>\n",
       "      <td>1.349856</td>\n",
       "      <td>1.0</td>\n",
       "      <td>0.00408</td>\n",
       "      <td>27.470563</td>\n",
       "      <td>0.00235</td>\n",
       "    </tr>\n",
       "    <tr>\n",
       "      <th>6</th>\n",
       "      <td>258.0</td>\n",
       "      <td>547.0</td>\n",
       "      <td>0.0</td>\n",
       "      <td>0.0</td>\n",
       "      <td>5.596262</td>\n",
       "      <td>771.0</td>\n",
       "      <td>2.9471</td>\n",
       "      <td>1.500575</td>\n",
       "      <td>1.151165</td>\n",
       "      <td>1.0</td>\n",
       "      <td>0.001954</td>\n",
       "      <td>0.0</td>\n",
       "      <td>0.0</td>\n",
       "    </tr>\n",
       "    <tr>\n",
       "      <th>7</th>\n",
       "      <td>261.0</td>\n",
       "      <td>547.0</td>\n",
       "      <td>0.0</td>\n",
       "      <td>0.0</td>\n",
       "      <td>6.42545</td>\n",
       "      <td>1167.0</td>\n",
       "      <td>3.294938</td>\n",
       "      <td>1.861812</td>\n",
       "      <td>1.557327</td>\n",
       "      <td>1.0</td>\n",
       "      <td>0.008141</td>\n",
       "      <td>8.981846</td>\n",
       "      <td>0.003519</td>\n",
       "    </tr>\n",
       "    <tr>\n",
       "      <th>8</th>\n",
       "      <td>257.0</td>\n",
       "      <td>547.0</td>\n",
       "      <td>0.0</td>\n",
       "      <td>0.0</td>\n",
       "      <td>5.629932</td>\n",
       "      <td>785.0</td>\n",
       "      <td>2.917116</td>\n",
       "      <td>1.452083</td>\n",
       "      <td>1.157277</td>\n",
       "      <td>1.0</td>\n",
       "      <td>0.0</td>\n",
       "      <td>0.0</td>\n",
       "      <td>0.0</td>\n",
       "    </tr>\n",
       "  </tbody>\n",
       "</table>\n",
       "</div>"
      ],
      "text/plain": [
       "    Time Track ID Dividing Number_Dividing    Radius  Volume  \\\n",
       "4  263.0    547.0      0.0             0.0  6.330451  1116.0   \n",
       "5  264.0    547.0      0.0             0.0  6.055892   977.0   \n",
       "6  258.0    547.0      0.0             0.0  5.596262   771.0   \n",
       "7  261.0    547.0      0.0             0.0   6.42545  1167.0   \n",
       "8  257.0    547.0      0.0             0.0  5.629932   785.0   \n",
       "\n",
       "  Eccentricity Comp First Eccentricity Comp Second Surface Area Cluster Class  \\\n",
       "4                3.256237                 1.715262     1.499854           1.0   \n",
       "5                3.316175                 1.530034     1.349856           1.0   \n",
       "6                  2.9471                 1.500575     1.151165           1.0   \n",
       "7                3.294938                 1.861812     1.557327           1.0   \n",
       "8                2.917116                 1.452083     1.157277           1.0   \n",
       "\n",
       "      Speed Directional_Change_Rate Acceleration  \n",
       "4  0.005027               40.214865     0.003399  \n",
       "5   0.00408               27.470563      0.00235  \n",
       "6  0.001954                     0.0          0.0  \n",
       "7  0.008141                8.981846     0.003519  \n",
       "8       0.0                     0.0          0.0  "
      ]
     },
     "execution_count": 43,
     "metadata": {},
     "output_type": "execute_result"
    }
   ],
   "source": [
    "global_shape_dynamic_dataframe.tail()"
   ]
  },
  {
   "cell_type": "code",
   "execution_count": null,
   "metadata": {
    "scrolled": false
   },
   "outputs": [],
   "source": []
  },
  {
   "cell_type": "code",
   "execution_count": null,
   "metadata": {},
   "outputs": [],
   "source": []
  },
  {
   "cell_type": "code",
   "execution_count": null,
   "metadata": {},
   "outputs": [],
   "source": []
  }
 ],
 "metadata": {
  "kernelspec": {
   "display_name": "Python [conda env:naparienv] *",
   "language": "python",
   "name": "conda-env-naparienv-py"
  },
  "language_info": {
   "codemirror_mode": {
    "name": "ipython",
    "version": 3
   },
   "file_extension": ".py",
   "mimetype": "text/x-python",
   "name": "python",
   "nbconvert_exporter": "python",
   "pygments_lexer": "ipython3",
   "version": "3.10.9"
  }
 },
 "nbformat": 4,
 "nbformat_minor": 2
}
