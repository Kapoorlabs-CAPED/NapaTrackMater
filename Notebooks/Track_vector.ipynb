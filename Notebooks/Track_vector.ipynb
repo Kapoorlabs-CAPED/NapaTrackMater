{
 "cells": [
  {
   "cell_type": "markdown",
   "metadata": {},
   "source": [
    "In this notebook we read in the Master XML file made using NapaTrackMater and create N, Delta times Attribute dimensional vectors. N being the number of tracks present in the chosen region, R, Delta being the chosen time interval (t_minus + t_plus) {t - t_minus, t + t_plus} and Attributes being the morphological and the dynamic properties associated with cells in the tracks. We concatenate the Attribute componenets over the chosen time interval to create a Delta times Attribute dimensional vector and create a pandas dataframe with these vectors for further analysis."
   ]
  },
  {
   "cell_type": "code",
   "execution_count": 1,
   "metadata": {},
   "outputs": [],
   "source": [
    "%gui qt5\n",
    "from napatrackmater.Trackvector import TrackVector\n",
    "from pathlib import Path\n",
    "from ipywidgets import interactive, widgets\n",
    "from IPython.display import display\n",
    "import napari \n",
    "from tifffile import imread\n",
    "\n"
   ]
  },
  {
   "cell_type": "code",
   "execution_count": 2,
   "metadata": {},
   "outputs": [],
   "source": [
    "master_xml_path = Path('C:/Users/rando/Downloads/Mari_project/gt/master_gt_star_hyperstack.xml')\n",
    "spot_csv_path = Path('C:/Users/rando/Downloads/Mari_project/gt/spots.csv')\n",
    "track_csv_path = Path('C:/Users/rando/Downloads/Mari_project/gt/tracks.csv')\n",
    "edges_csv_path = Path('C:/Users/rando/Downloads/Mari_project/gt/edges.csv')\n",
    "image = imread('C:/Users/rando/Downloads/Mari_project/gt/rawk.tif')\n",
    "show_tracks = True"
   ]
  },
  {
   "cell_type": "markdown",
   "metadata": {},
   "source": []
  },
  {
   "cell_type": "code",
   "execution_count": 3,
   "metadata": {},
   "outputs": [
    {
     "name": "stdout",
     "output_type": "stream",
     "text": [
      "Reading Master XML\n",
      "Iterating over spots in frame\n",
      "Iterating over tracks 547\n",
      "getting attributes\n",
      "obtianed spot attributes\n",
      "obtained track attributes\n",
      "obtained edge attributes\n"
     ]
    }
   ],
   "source": [
    "viewer = napari.Viewer()\n",
    "track_vectors = TrackVector(viewer,image,master_xml_path,spot_csv_path, track_csv_path, edges_csv_path, show_tracks = show_tracks)"
   ]
  },
  {
   "cell_type": "code",
   "execution_count": 4,
   "metadata": {},
   "outputs": [],
   "source": [
    "def track_setter(deltat, deltax, deltay):\n",
    "    track_vectors.t_minus = deltat[0]\n",
    "    track_vectors.t_plus = deltat[-1]\n",
    "    \n",
    "    track_vectors.x_start = deltax[0]\n",
    "    track_vectors.x_end = deltax[-1]\n",
    "    \n",
    "    track_vectors.y_start = deltay[0]\n",
    "    track_vectors.y_end = deltay[-1]\n",
    "    "
   ]
  },
  {
   "cell_type": "code",
   "execution_count": 5,
   "metadata": {},
   "outputs": [
    {
     "data": {
      "application/vnd.jupyter.widget-view+json": {
       "model_id": "8b530eb9747c4fffafc4e19f6ba0bbe6",
       "version_major": 2,
       "version_minor": 0
      },
      "text/plain": [
       "interactive(children=(IntRangeSlider(value=(0, 265), continuous_update=False, description='Delta Time', max=26…"
      ]
     },
     "execution_count": 5,
     "metadata": {},
     "output_type": "execute_result"
    }
   ],
   "source": [
    "track_vector_widgets = interactive(track_setter, deltat = widgets.IntRangeSlider(\n",
    "    value=[track_vectors.tstart, track_vectors.tend],\n",
    "    min= track_vectors.tstart,\n",
    "    max=track_vectors.tend,\n",
    "    step=1,\n",
    "    description='Delta Time',\n",
    "    disabled=False,\n",
    "    continuous_update=False,\n",
    "    orientation='horizontal',\n",
    "    readout=True,\n",
    "    readout_format='d',\n",
    "), \n",
    "    deltax = widgets.IntRangeSlider(\n",
    "    value=[track_vectors.xmin, track_vectors.xmax],\n",
    "    min= track_vectors.xmin,\n",
    "    max=track_vectors.xmax,\n",
    "    step=1,\n",
    "    description='Delta X',\n",
    "    disabled=False,\n",
    "    continuous_update=False,\n",
    "    orientation='horizontal',\n",
    "    readout=True,\n",
    "    readout_format='d',\n",
    "), \n",
    "    deltay = widgets.IntRangeSlider(\n",
    "    value=[track_vectors.ymin, track_vectors.ymax],\n",
    "    min= track_vectors.ymin,\n",
    "    max=track_vectors.ymax,\n",
    "    step=1,\n",
    "    description='Delta Y',\n",
    "    disabled=False,\n",
    "    continuous_update=False,\n",
    "    orientation='horizontal',\n",
    "    readout=True,\n",
    "    readout_format='d',\n",
    "),                               \n",
    "                                  \n",
    "                                  )\n",
    "\n",
    "track_vector_widgets"
   ]
  },
  {
   "cell_type": "code",
   "execution_count": 6,
   "metadata": {},
   "outputs": [
    {
     "ename": "AttributeError",
     "evalue": "'TrackVector' object has no attribute 'unique_tracks_properties'",
     "output_type": "error",
     "traceback": [
      "\u001b[1;31m---------------------------------------------------------------------------\u001b[0m",
      "\u001b[1;31mAttributeError\u001b[0m                            Traceback (most recent call last)",
      "Cell \u001b[1;32mIn[6], line 1\u001b[0m\n\u001b[1;32m----> 1\u001b[0m \u001b[43mtrack_vectors\u001b[49m\u001b[38;5;241;43m.\u001b[39;49m\u001b[43m_interactive_function\u001b[49m\u001b[43m(\u001b[49m\u001b[43m)\u001b[49m\n",
      "File \u001b[1;32mc:\\users\\rando\\downloads\\python_workspace\\napatrackmater\\napatrackmater\\Trackvector.py:222\u001b[0m, in \u001b[0;36mTrackVector._interactive_function\u001b[1;34m(self)\u001b[0m\n\u001b[0;32m    215\u001b[0m                      \u001b[38;5;28mself\u001b[39m\u001b[38;5;241m.\u001b[39m_final_morphological_dynamic_vectors(track_id)\n\u001b[0;32m    217\u001b[0m \u001b[38;5;28;01mif\u001b[39;00m \u001b[38;5;28mself\u001b[39m\u001b[38;5;241m.\u001b[39m_show_tracks:\n\u001b[0;32m    219\u001b[0m          features \u001b[38;5;241m=\u001b[39m {\n\u001b[0;32m    220\u001b[0m              \u001b[38;5;124m\"\u001b[39m\u001b[38;5;124mtime\u001b[39m\u001b[38;5;124m\"\u001b[39m: \u001b[38;5;28mmap\u001b[39m(\n\u001b[0;32m    221\u001b[0m                     \u001b[38;5;28mint\u001b[39m,\n\u001b[1;32m--> 222\u001b[0m                     np\u001b[38;5;241m.\u001b[39masarray(\u001b[38;5;28;43mself\u001b[39;49m\u001b[38;5;241;43m.\u001b[39;49m\u001b[43munique_tracks_properties\u001b[49m, dtype\u001b[38;5;241m=\u001b[39m\u001b[38;5;124m\"\u001b[39m\u001b[38;5;124mfloat64\u001b[39m\u001b[38;5;124m\"\u001b[39m)[:, \u001b[38;5;241m0\u001b[39m],\n\u001b[0;32m    223\u001b[0m              ),\n\u001b[0;32m    224\u001b[0m              \u001b[38;5;124m\"\u001b[39m\u001b[38;5;124mgeneration\u001b[39m\u001b[38;5;124m\"\u001b[39m: \u001b[38;5;28mmap\u001b[39m(\n\u001b[0;32m    225\u001b[0m                     \u001b[38;5;28mint\u001b[39m,\n\u001b[0;32m    226\u001b[0m                     np\u001b[38;5;241m.\u001b[39masarray(\u001b[38;5;28mself\u001b[39m\u001b[38;5;241m.\u001b[39munique_tracks_properties, dtype\u001b[38;5;241m=\u001b[39m\u001b[38;5;124m\"\u001b[39m\u001b[38;5;124mfloat64\u001b[39m\u001b[38;5;124m\"\u001b[39m)[:, \u001b[38;5;241m2\u001b[39m],\n\u001b[0;32m    227\u001b[0m              ),\n\u001b[0;32m    228\u001b[0m              \u001b[38;5;124m\"\u001b[39m\u001b[38;5;124mspeed\u001b[39m\u001b[38;5;124m\"\u001b[39m: \u001b[38;5;28mmap\u001b[39m(\n\u001b[0;32m    229\u001b[0m                     \u001b[38;5;28mfloat\u001b[39m,\n\u001b[0;32m    230\u001b[0m                     np\u001b[38;5;241m.\u001b[39masarray(\u001b[38;5;28mself\u001b[39m\u001b[38;5;241m.\u001b[39munique_tracks_properties, dtype\u001b[38;5;241m=\u001b[39m\u001b[38;5;124m\"\u001b[39m\u001b[38;5;124mfloat64\u001b[39m\u001b[38;5;124m\"\u001b[39m)[:, \u001b[38;5;241m3\u001b[39m],\n\u001b[0;32m    231\u001b[0m              ),\n\u001b[0;32m    232\u001b[0m              \u001b[38;5;124m\"\u001b[39m\u001b[38;5;124mdirectional_change_rate\u001b[39m\u001b[38;5;124m\"\u001b[39m: \u001b[38;5;28mmap\u001b[39m(\n\u001b[0;32m    233\u001b[0m                     \u001b[38;5;28mfloat\u001b[39m,\n\u001b[0;32m    234\u001b[0m                     np\u001b[38;5;241m.\u001b[39masarray(\u001b[38;5;28mself\u001b[39m\u001b[38;5;241m.\u001b[39munique_tracks_properties, dtype\u001b[38;5;241m=\u001b[39m\u001b[38;5;124m\"\u001b[39m\u001b[38;5;124mfloat64\u001b[39m\u001b[38;5;124m\"\u001b[39m)[:, \u001b[38;5;241m4\u001b[39m],\n\u001b[0;32m    235\u001b[0m              ),\n\u001b[0;32m    236\u001b[0m              \u001b[38;5;124m\"\u001b[39m\u001b[38;5;124mtotal-intensity\u001b[39m\u001b[38;5;124m\"\u001b[39m: \u001b[38;5;28mmap\u001b[39m(\n\u001b[0;32m    237\u001b[0m                     \u001b[38;5;28mfloat\u001b[39m,\n\u001b[0;32m    238\u001b[0m                     np\u001b[38;5;241m.\u001b[39masarray(\u001b[38;5;28mself\u001b[39m\u001b[38;5;241m.\u001b[39munique_tracks_properties, dtype\u001b[38;5;241m=\u001b[39m\u001b[38;5;124m\"\u001b[39m\u001b[38;5;124mfloat64\u001b[39m\u001b[38;5;124m\"\u001b[39m)[:, \u001b[38;5;241m5\u001b[39m],\n\u001b[0;32m    239\u001b[0m              ),\n\u001b[0;32m    240\u001b[0m              \u001b[38;5;124m\"\u001b[39m\u001b[38;5;124mvolume_pixels\u001b[39m\u001b[38;5;124m\"\u001b[39m: \u001b[38;5;28mmap\u001b[39m(\n\u001b[0;32m    241\u001b[0m                     \u001b[38;5;28mfloat\u001b[39m,\n\u001b[0;32m    242\u001b[0m                     np\u001b[38;5;241m.\u001b[39masarray(\u001b[38;5;28mself\u001b[39m\u001b[38;5;241m.\u001b[39munique_tracks_properties, dtype\u001b[38;5;241m=\u001b[39m\u001b[38;5;124m\"\u001b[39m\u001b[38;5;124mfloat64\u001b[39m\u001b[38;5;124m\"\u001b[39m)[:, \u001b[38;5;241m6\u001b[39m],\n\u001b[0;32m    243\u001b[0m              ),\n\u001b[0;32m    244\u001b[0m              \u001b[38;5;124m\"\u001b[39m\u001b[38;5;124macceleration\u001b[39m\u001b[38;5;124m\"\u001b[39m: \u001b[38;5;28mmap\u001b[39m(\n\u001b[0;32m    245\u001b[0m                     \u001b[38;5;28mfloat\u001b[39m,\n\u001b[0;32m    246\u001b[0m                     np\u001b[38;5;241m.\u001b[39masarray(\u001b[38;5;28mself\u001b[39m\u001b[38;5;241m.\u001b[39munique_tracks_properties, dtype\u001b[38;5;241m=\u001b[39m\u001b[38;5;124m\"\u001b[39m\u001b[38;5;124mfloat64\u001b[39m\u001b[38;5;124m\"\u001b[39m)[:, \u001b[38;5;241m7\u001b[39m],\n\u001b[0;32m    247\u001b[0m              ),\n\u001b[0;32m    248\u001b[0m              \u001b[38;5;124m\"\u001b[39m\u001b[38;5;124mcluster_class\u001b[39m\u001b[38;5;124m\"\u001b[39m: \u001b[38;5;28mmap\u001b[39m(\n\u001b[0;32m    249\u001b[0m                     \u001b[38;5;28mfloat\u001b[39m,\n\u001b[0;32m    250\u001b[0m                     np\u001b[38;5;241m.\u001b[39masarray(\u001b[38;5;28mself\u001b[39m\u001b[38;5;241m.\u001b[39munique_tracks_properties, dtype\u001b[38;5;241m=\u001b[39m\u001b[38;5;124m\"\u001b[39m\u001b[38;5;124mfloat64\u001b[39m\u001b[38;5;124m\"\u001b[39m)[:, \u001b[38;5;241m8\u001b[39m],\n\u001b[0;32m    251\u001b[0m              ),\n\u001b[0;32m    252\u001b[0m              \u001b[38;5;124m\"\u001b[39m\u001b[38;5;124mcluster_score\u001b[39m\u001b[38;5;124m\"\u001b[39m: \u001b[38;5;28mmap\u001b[39m(\n\u001b[0;32m    253\u001b[0m                     \u001b[38;5;28mfloat\u001b[39m,\n\u001b[0;32m    254\u001b[0m                     np\u001b[38;5;241m.\u001b[39masarray(\u001b[38;5;28mself\u001b[39m\u001b[38;5;241m.\u001b[39munique_tracks_properties, dtype\u001b[38;5;241m=\u001b[39m\u001b[38;5;124m\"\u001b[39m\u001b[38;5;124mfloat64\u001b[39m\u001b[38;5;124m\"\u001b[39m)[:, \u001b[38;5;241m9\u001b[39m],\n\u001b[0;32m    255\u001b[0m              ),\n\u001b[0;32m    256\u001b[0m              }\n\u001b[0;32m    257\u001b[0m          \u001b[38;5;28;01mif\u001b[39;00m \u001b[38;5;28mlen\u001b[39m(\u001b[38;5;28mlist\u001b[39m(\u001b[38;5;28mself\u001b[39m\u001b[38;5;241m.\u001b[39m_viewer\u001b[38;5;241m.\u001b[39mlayers)) \u001b[38;5;241m>\u001b[39m \u001b[38;5;241m0\u001b[39m:\n\u001b[0;32m    258\u001b[0m              \u001b[38;5;28;01mfor\u001b[39;00m layer \u001b[38;5;129;01min\u001b[39;00m \u001b[38;5;28mlist\u001b[39m(\u001b[38;5;28mself\u001b[39m\u001b[38;5;241m.\u001b[39m_viewer\u001b[38;5;241m.\u001b[39mlayers):\n",
      "\u001b[1;31mAttributeError\u001b[0m: 'TrackVector' object has no attribute 'unique_tracks_properties'"
     ]
    }
   ],
   "source": [
    "track_vectors._interactive_function()"
   ]
  },
  {
   "cell_type": "code",
   "execution_count": null,
   "metadata": {},
   "outputs": [],
   "source": []
  },
  {
   "cell_type": "code",
   "execution_count": null,
   "metadata": {},
   "outputs": [],
   "source": []
  }
 ],
 "metadata": {
  "kernelspec": {
   "display_name": "Python [conda env:naparienv] *",
   "language": "python",
   "name": "conda-env-naparienv-py"
  },
  "language_info": {
   "codemirror_mode": {
    "name": "ipython",
    "version": 3
   },
   "file_extension": ".py",
   "mimetype": "text/x-python",
   "name": "python",
   "nbconvert_exporter": "python",
   "pygments_lexer": "ipython3",
   "version": "3.10.9"
  }
 },
 "nbformat": 4,
 "nbformat_minor": 2
}
