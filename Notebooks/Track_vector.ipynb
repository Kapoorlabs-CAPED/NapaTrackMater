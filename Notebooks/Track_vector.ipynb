{
 "cells": [
  {
   "cell_type": "markdown",
   "metadata": {},
   "source": [
    "In this notebook we read in the Master XML file made using NapaTrackMater and create N, Delta times Attribute dimensional vectors. N being the number of tracks present in the chosen region, R, Delta being the chosen time interval (t_minus + t_plus) {t - t_minus, t + t_plus} and Attributes being the morphological and the dynamic properties associated with cells in the tracks. We concatenate the Attribute componenets over the chosen time interval to create a Delta times Attribute dimensional vector and create a pandas dataframe with these vectors for further analysis."
   ]
  },
  {
   "cell_type": "code",
   "execution_count": null,
   "metadata": {},
   "outputs": [],
   "source": [
    "!pip install napatrackmater\n",
    "!pip install git+https://github.com/kapoorlab/cellshape-helper\n",
    "!pip install git+https://github.com/kapoorlab/cellshape-cloud\n",
    "!pip install git+https://github.com/kapoorlab/cellshape-cluster    "
   ]
  },
  {
   "cell_type": "code",
   "execution_count": 1,
   "metadata": {},
   "outputs": [],
   "source": [
    "%gui qt5\n",
    "from napatrackmater.Trackvector import TrackVector\n",
    "from pathlib import Path\n",
    "from ipywidgets import interactive, widgets\n",
    "from IPython.display import display\n",
    "import napari \n",
    "from tifffile import imread\n",
    "import pandas as pd\n",
    "import matplotlib.pyplot as plt\n",
    "import numpy as np"
   ]
  },
  {
   "cell_type": "code",
   "execution_count": 31,
   "metadata": {},
   "outputs": [],
   "source": [
    "master_xml_path = Path('C:/Users/rando/Downloads/Mari_project/gt/master_gt_star_hyperstack.xml')\n",
    "spot_csv_path = Path('C:/Users/rando/Downloads/Mari_project/gt/spots.csv')\n",
    "track_csv_path = Path('C:/Users/rando/Downloads/Mari_project/gt/tracks.csv')\n",
    "edges_csv_path = Path('C:/Users/rando/Downloads/Mari_project/gt/edges.csv')\n",
    "image = imread('C:/Users/rando/Downloads/Mari_project/gt/rawk.tif')\n",
    "show_tracks = False\n",
    "\n",
    "shape_dynamic_dict = {'Time':0, 'Track ID':1,  'Dividing':2, 'Number_Dividing':3,  'Radius':4, 'Volume':5, 'Cluster Class':6, 'Speed':7, 'Directional_Change_Rate':8, 'Acceleration':9}"
   ]
  },
  {
   "cell_type": "markdown",
   "metadata": {},
   "source": []
  },
  {
   "cell_type": "code",
   "execution_count": 3,
   "metadata": {},
   "outputs": [
    {
     "name": "stdout",
     "output_type": "stream",
     "text": [
      "Reading Master XML\n",
      "Iterating over spots in frame\n",
      "Iterating over tracks 547\n",
      "getting attributes\n",
      "obtianed spot attributes\n",
      "obtained track attributes\n",
      "obtained edge attributes\n"
     ]
    }
   ],
   "source": [
    "if show_tracks:\n",
    "  viewer = napari.Viewer()\n",
    "else:\n",
    "    viewer = None\n",
    "track_vectors = TrackVector(viewer,image,master_xml_path,spot_csv_path, track_csv_path, edges_csv_path, show_tracks = show_tracks)"
   ]
  },
  {
   "cell_type": "code",
   "execution_count": 4,
   "metadata": {},
   "outputs": [],
   "source": [
    "def track_setter(deltat, deltax, deltay):\n",
    "    track_vectors.t_minus = deltat[0]\n",
    "    track_vectors.t_plus = deltat[-1]\n",
    "    \n",
    "    track_vectors.x_start = deltax[0]\n",
    "    track_vectors.x_end = deltax[-1]\n",
    "    \n",
    "    track_vectors.y_start = deltay[0]\n",
    "    track_vectors.y_end = deltay[-1]\n",
    "    "
   ]
  },
  {
   "cell_type": "code",
   "execution_count": 5,
   "metadata": {
    "scrolled": true
   },
   "outputs": [
    {
     "data": {
      "application/vnd.jupyter.widget-view+json": {
       "model_id": "33cb5cdcd0a4436d932797a30abe948b",
       "version_major": 2,
       "version_minor": 0
      },
      "text/plain": [
       "interactive(children=(IntRangeSlider(value=(0, 265), continuous_update=False, description='Delta Time', max=26…"
      ]
     },
     "execution_count": 5,
     "metadata": {},
     "output_type": "execute_result"
    }
   ],
   "source": [
    "track_vector_widgets = interactive(track_setter, deltat = widgets.IntRangeSlider(\n",
    "    value=[track_vectors.tstart, track_vectors.tend],\n",
    "    min= track_vectors.tstart,\n",
    "    max=track_vectors.tend,\n",
    "    step=1,\n",
    "    description='Delta Time',\n",
    "    disabled=False,\n",
    "    continuous_update=False,\n",
    "    orientation='horizontal',\n",
    "    readout=True,\n",
    "    readout_format='d',\n",
    "), \n",
    "    deltax = widgets.IntRangeSlider(\n",
    "    value=[track_vectors.xmin, track_vectors.xmax],\n",
    "    min= track_vectors.xmin,\n",
    "    max=track_vectors.xmax,\n",
    "    step=1,\n",
    "    description='Delta X',\n",
    "    disabled=False,\n",
    "    continuous_update=False,\n",
    "    orientation='horizontal',\n",
    "    readout=True,\n",
    "    readout_format='d',\n",
    "), \n",
    "    deltay = widgets.IntRangeSlider(\n",
    "    value=[track_vectors.ymin, track_vectors.ymax],\n",
    "    min= track_vectors.ymin,\n",
    "    max=track_vectors.ymax,\n",
    "    step=1,\n",
    "    description='Delta Y',\n",
    "    disabled=False,\n",
    "    continuous_update=False,\n",
    "    orientation='horizontal',\n",
    "    readout=True,\n",
    "    readout_format='d',\n",
    "),                               \n",
    "                                  \n",
    "                                  )\n",
    "\n",
    "track_vector_widgets"
   ]
  },
  {
   "cell_type": "code",
   "execution_count": 39,
   "metadata": {},
   "outputs": [
    {
     "name": "stdout",
     "output_type": "stream",
     "text": [
      "returning shape vectors as list 618\n",
      "returning dynamic vectors as list 618\n",
      "returning shape and dynamic vectors as list 618\n"
     ]
    }
   ],
   "source": [
    "track_vectors._interactive_function()"
   ]
  },
  {
   "cell_type": "code",
   "execution_count": 40,
   "metadata": {},
   "outputs": [],
   "source": [
    "current_shape_dynamic_vectors = track_vectors.current_shape_dynamic_vectors"
   ]
  },
  {
   "cell_type": "code",
   "execution_count": 41,
   "metadata": {},
   "outputs": [],
   "source": [
    "global_shape_dynamic_dataframe = []\n",
    "for i in range(len(current_shape_dynamic_vectors)):\n",
    "   shape_dynamic_dataframe = pd.DataFrame(current_shape_dynamic_vectors[i], index =['Time', 'Track ID',  'Dividing', 'Number_Dividing',  'Radius', 'Volume', 'Cluster Class', 'Speed', 'Directional_Change_Rate', 'Acceleration'])\n",
    "   if len(global_shape_dynamic_dataframe) == 0:\n",
    "        global_shape_dynamic_dataframe = shape_dynamic_dataframe\n",
    "   else:\n",
    "        global_shape_dynamic_dataframe = pd.concat([global_shape_dynamic_dataframe, shape_dynamic_dataframe],ignore_index=False)\n"
   ]
  },
  {
   "cell_type": "code",
   "execution_count": 44,
   "metadata": {},
   "outputs": [],
   "source": [
    "dividing_property = []\n",
    "number_dividing_property = []\n",
    "radius_property = []\n",
    "volume_property = []\n",
    "cluster_class_property = []\n",
    "speed_property = []\n",
    "directional_change_rate_property = []\n",
    "acceleration_property = []\n",
    "\n",
    "for i in range(len(current_shape_dynamic_vectors)):\n",
    "        current_dividing_array = current_shape_dynamic_vectors[i][shape_dynamic_dict['Dividing']]\n",
    "        current_number_dividing_array = current_shape_dynamic_vectors[i][shape_dynamic_dict['Number_Dividing']]\n",
    "        current_radius_array = current_shape_dynamic_vectors[i][shape_dynamic_dict['Radius']]\n",
    "        current_volume_array = current_shape_dynamic_vectors[i][shape_dynamic_dict['Volume']]\n",
    "        current_cluster_class_array = current_shape_dynamic_vectors[i][shape_dynamic_dict['Cluster Class']]\n",
    "        current_speed_array = current_shape_dynamic_vectors[i][shape_dynamic_dict['Speed']]\n",
    "        current_directional_rate_array = current_shape_dynamic_vectors[i][shape_dynamic_dict['Directional_Change_Rate']]\n",
    "        current_acceleration_array = current_shape_dynamic_vectors[i][shape_dynamic_dict['Acceleration']]\n",
    "        #Take each individual vector of property and create an ensemble vector\n",
    "        for i in range(current_dividing_array.shape[0]):\n",
    "           dividing_property.append(current_dividing_array[i])\n",
    "           number_dividing_property.append(current_number_dividing_array[i])\n",
    "           radius_property.append(current_radius_array[i])\n",
    "           volume_property.append(current_volume_array[i])\n",
    "           cluster_class_property.append(current_cluster_class_array[i])\n",
    "           speed_property.append(current_speed_array[i])\n",
    "           directional_change_rate_property.append(current_directional_rate_array[i])\n",
    "           acceleration_property.append(current_acceleration_array[i])"
   ]
  },
  {
   "cell_type": "code",
   "execution_count": 51,
   "metadata": {},
   "outputs": [
    {
     "data": {
      "text/plain": [
       "<matplotlib.collections.PathCollection at 0x1b8e86b8610>"
      ]
     },
     "execution_count": 51,
     "metadata": {},
     "output_type": "execute_result"
    },
    {
     "data": {
      "image/png": "[encoded data removed]",
      "text/plain": [
       "<Figure size 640x480 with 1 Axes>"
      ]
     },
     "metadata": {},
     "output_type": "display_data"
    }
   ],
   "source": [
    "\n",
    "plt.scatter(np.asarray(number_dividing_property), np.asarray(acceleration_property))\n",
    "plt.scatter(np.asarray(number_dividing_property), np.asarray(speed_property))\n"
   ]
  },
  {
   "cell_type": "code",
   "execution_count": 50,
   "metadata": {
    "scrolled": false
   },
   "outputs": [
    {
     "data": {
      "text/plain": [
       "<matplotlib.collections.PathCollection at 0x1b8e857b3a0>"
      ]
     },
     "execution_count": 50,
     "metadata": {},
     "output_type": "execute_result"
    },
    {
     "data": {
      "image/png": "[encoded data removed]",
      "text/plain": [
       "<Figure size 640x480 with 1 Axes>"
      ]
     },
     "metadata": {},
     "output_type": "display_data"
    }
   ],
   "source": [
    "plt.scatter(np.asarray(number_dividing_property), np.asarray(radius_property))"
   ]
  },
  {
   "cell_type": "code",
   "execution_count": null,
   "metadata": {},
   "outputs": [],
   "source": []
  },
  {
   "cell_type": "code",
   "execution_count": null,
   "metadata": {},
   "outputs": [],
   "source": []
  }
 ],
 "metadata": {
  "kernelspec": {
   "display_name": "Python [conda env:naparienv] *",
   "language": "python",
   "name": "conda-env-naparienv-py"
  },
  "language_info": {
   "codemirror_mode": {
    "name": "ipython",
    "version": 3
   },
   "file_extension": ".py",
   "mimetype": "text/x-python",
   "name": "python",
   "nbconvert_exporter": "python",
   "pygments_lexer": "ipython3",
   "version": "3.10.9"
  }
 },
 "nbformat": 4,
 "nbformat_minor": 2
}
