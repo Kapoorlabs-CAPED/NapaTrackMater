{
 "cells": [
  {
   "cell_type": "markdown",
   "metadata": {},
   "source": [
    "In this notebook we read in the Master XML file made using NapaTrackMater and create N, Delta times Attribute dimensional vectors. N being the number of tracks present in the chosen region, R, Delta being the chosen time interval (t_minus + t_plus) {t - t_minus, t + t_plus} and Attributes being the morphological and the dynamic properties associated with cells in the tracks. We concatenate the Attribute componenets over the chosen time interval to create a Delta times Attribute dimensional vector and create a pandas dataframe with these vectors for further analysis."
   ]
  },
  {
   "cell_type": "code",
   "execution_count": null,
   "metadata": {},
   "outputs": [],
   "source": [
    "!pip install napatrackmater\n",
    "!pip install git+https://github.com/kapoorlab/cellshape-helper\n",
    "!pip install git+https://github.com/kapoorlab/cellshape-cloud\n",
    "!pip install git+https://github.com/kapoorlab/cellshape-cluster    "
   ]
  },
  {
   "cell_type": "code",
   "execution_count": 7,
   "metadata": {},
   "outputs": [],
   "source": [
    "%gui qt5\n",
    "from napatrackmater.Trackvector import TrackVector\n",
    "from pathlib import Path\n",
    "from ipywidgets import interactive, widgets\n",
    "from IPython.display import display\n",
    "import napari \n",
    "from tifffile import imread\n",
    "import pandas as pd\n"
   ]
  },
  {
   "cell_type": "code",
   "execution_count": 2,
   "metadata": {},
   "outputs": [],
   "source": [
    "master_xml_path = Path('C:/Users/rando/Downloads/Mari_project/gt/master_gt_star_hyperstack.xml')\n",
    "spot_csv_path = Path('C:/Users/rando/Downloads/Mari_project/gt/spots.csv')\n",
    "track_csv_path = Path('C:/Users/rando/Downloads/Mari_project/gt/tracks.csv')\n",
    "edges_csv_path = Path('C:/Users/rando/Downloads/Mari_project/gt/edges.csv')\n",
    "image = imread('C:/Users/rando/Downloads/Mari_project/gt/rawk.tif')\n",
    "show_tracks = True"
   ]
  },
  {
   "cell_type": "markdown",
   "metadata": {},
   "source": []
  },
  {
   "cell_type": "code",
   "execution_count": 3,
   "metadata": {},
   "outputs": [
    {
     "name": "stdout",
     "output_type": "stream",
     "text": [
      "Reading Master XML\n",
      "Iterating over spots in frame\n",
      "Iterating over tracks 547\n",
      "getting attributes\n",
      "obtianed spot attributes\n",
      "obtained track attributes\n",
      "obtained edge attributes\n"
     ]
    }
   ],
   "source": [
    "viewer = napari.Viewer()\n",
    "track_vectors = TrackVector(viewer,image,master_xml_path,spot_csv_path, track_csv_path, edges_csv_path, show_tracks = show_tracks)"
   ]
  },
  {
   "cell_type": "code",
   "execution_count": 4,
   "metadata": {},
   "outputs": [],
   "source": [
    "def track_setter(deltat, deltax, deltay):\n",
    "    track_vectors.t_minus = deltat[0]\n",
    "    track_vectors.t_plus = deltat[-1]\n",
    "    \n",
    "    track_vectors.x_start = deltax[0]\n",
    "    track_vectors.x_end = deltax[-1]\n",
    "    \n",
    "    track_vectors.y_start = deltay[0]\n",
    "    track_vectors.y_end = deltay[-1]\n",
    "    "
   ]
  },
  {
   "cell_type": "code",
   "execution_count": 5,
   "metadata": {
    "scrolled": true
   },
   "outputs": [
    {
     "data": {
      "application/vnd.jupyter.widget-view+json": {
       "model_id": "59e9e7d85f4d45e9b85f738a82209b22",
       "version_major": 2,
       "version_minor": 0
      },
      "text/plain": [
       "interactive(children=(IntRangeSlider(value=(0, 265), continuous_update=False, description='Delta Time', max=26…"
      ]
     },
     "execution_count": 5,
     "metadata": {},
     "output_type": "execute_result"
    }
   ],
   "source": [
    "track_vector_widgets = interactive(track_setter, deltat = widgets.IntRangeSlider(\n",
    "    value=[track_vectors.tstart, track_vectors.tend],\n",
    "    min= track_vectors.tstart,\n",
    "    max=track_vectors.tend,\n",
    "    step=1,\n",
    "    description='Delta Time',\n",
    "    disabled=False,\n",
    "    continuous_update=False,\n",
    "    orientation='horizontal',\n",
    "    readout=True,\n",
    "    readout_format='d',\n",
    "), \n",
    "    deltax = widgets.IntRangeSlider(\n",
    "    value=[track_vectors.xmin, track_vectors.xmax],\n",
    "    min= track_vectors.xmin,\n",
    "    max=track_vectors.xmax,\n",
    "    step=1,\n",
    "    description='Delta X',\n",
    "    disabled=False,\n",
    "    continuous_update=False,\n",
    "    orientation='horizontal',\n",
    "    readout=True,\n",
    "    readout_format='d',\n",
    "), \n",
    "    deltay = widgets.IntRangeSlider(\n",
    "    value=[track_vectors.ymin, track_vectors.ymax],\n",
    "    min= track_vectors.ymin,\n",
    "    max=track_vectors.ymax,\n",
    "    step=1,\n",
    "    description='Delta Y',\n",
    "    disabled=False,\n",
    "    continuous_update=False,\n",
    "    orientation='horizontal',\n",
    "    readout=True,\n",
    "    readout_format='d',\n",
    "),                               \n",
    "                                  \n",
    "                                  )\n",
    "\n",
    "track_vector_widgets"
   ]
  },
  {
   "cell_type": "code",
   "execution_count": 6,
   "metadata": {},
   "outputs": [
    {
     "name": "stdout",
     "output_type": "stream",
     "text": [
      "returning shape vectors as list 40\n",
      "returning dynamic vectors as list 40\n"
     ]
    }
   ],
   "source": [
    "track_vectors._interactive_function()"
   ]
  },
  {
   "cell_type": "code",
   "execution_count": 14,
   "metadata": {},
   "outputs": [],
   "source": [
    "current_shape_vectors = track_vectors.current_shape_vectors\n",
    "current_dynamic_vectors = track_vectors.current_dynamic_vectors"
   ]
  },
  {
   "cell_type": "code",
   "execution_count": 37,
   "metadata": {},
   "outputs": [],
   "source": [
    "global_shape_dataframe = []\n",
    "for i in range(len(current_shape_vectors)):\n",
    "   shape_dataframe = pd.DataFrame(current_shape_vectors[i], index =['Time', 'Radius', 'Volume', 'Cluster Class', 'Cluster Score'])\n",
    "   if len(global_shape_dataframe) == 0:\n",
    "        global_shape_dataframe = shape_dataframe\n",
    "   else:\n",
    "        global_shape_dataframe = pd.concat([global_shape_dataframe, shape_dataframe],ignore_index=False)"
   ]
  },
  {
   "cell_type": "code",
   "execution_count": 50,
   "metadata": {},
   "outputs": [],
   "source": [
    "global_dynamic_dataframe = []\n",
    "for i in range(len(current_dynamic_vectors)):\n",
    "   dynamic_dataframe = pd.DataFrame(current_dynamic_vectors[i], index =['Time', 'Speed', 'Directional_Change_Rate', 'Acceleration'])\n",
    "   if len(global_dynamic_dataframe) == 0:\n",
    "        global_dynamic_dataframe = dynamic_dataframe\n",
    "   else:\n",
    "        global_dynamic_dataframe = pd.concat([global_dynamic_dataframe, dynamic_dataframe],ignore_index=False)"
   ]
  },
  {
   "cell_type": "code",
   "execution_count": null,
   "metadata": {},
   "outputs": [],
   "source": []
  },
  {
   "cell_type": "code",
   "execution_count": null,
   "metadata": {},
   "outputs": [],
   "source": []
  },
  {
   "cell_type": "code",
   "execution_count": null,
   "metadata": {},
   "outputs": [],
   "source": []
  }
 ],
 "metadata": {
  "kernelspec": {
   "display_name": "Python [conda env:naparienv] *",
   "language": "python",
   "name": "conda-env-naparienv-py"
  },
  "language_info": {
   "codemirror_mode": {
    "name": "ipython",
    "version": 3
   },
   "file_extension": ".py",
   "mimetype": "text/x-python",
   "name": "python",
   "nbconvert_exporter": "python",
   "pygments_lexer": "ipython3",
   "version": "3.10.9"
  }
 },
 "nbformat": 4,
 "nbformat_minor": 2
}
