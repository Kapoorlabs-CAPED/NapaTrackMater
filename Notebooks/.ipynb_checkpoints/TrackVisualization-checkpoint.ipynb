{
 "cells": [
  {
   "cell_type": "code",
   "execution_count": 1,
   "metadata": {},
   "outputs": [],
   "source": [
    "import sys\n",
    "import numpy as np\n",
    "import os\n",
    "from tifffile import imread, imwrite\n",
    "import matplotlib.pyplot as plt\n",
    "import napari\n",
    "from napatrackmater import ImportTrackmateXML,LiveTracks\n"
   ]
  },
  {
   "cell_type": "code",
   "execution_count": 2,
   "metadata": {},
   "outputs": [],
   "source": [
    "#BTrackmate writes an XML file of tracks, we use it as input\n",
    "path_xml = '/Users/aimachine/CellTracking/ShortExampleXML.xml' \n",
    "\n",
    "#Path to Segmentation image for extracting any track information from labels \n",
    "SegmentationImage = '/Users/aimachine/CellTracking/SEG.tif'\n",
    "#Path to Raw image to display the tracks on (optional) else set it to None\n",
    "RawImage = '/Users/aimachine/CellTracking/Raw.tif'#'/Users/aimachine/CellTracking/Raw.tif' #'/run/media/kapoorlab/a16689d2-2f12-4219-9a7a-4e5a19b8f91a/GreenCells/ClaudiaTracking/GreenRaw_Timelapse_87E_Tomato_GFP.tif' \n",
    "MaskImage = None #'/home/kapoorlab/FakeDataTrack4D/Mask.tif'\n",
    "#Minimum time frames for a track to last, this is to remove the dangly segmentation mistakes\n",
    "mintracklength = 50\n",
    "#Directory for saving plots\n",
    "savedir = '/Users/aimachine/CellTracking/'"
   ]
  },
  {
   "cell_type": "code",
   "execution_count": 3,
   "metadata": {},
   "outputs": [],
   "source": [
    "Seg = imread(SegmentationImage).astype('uint16')\n",
    "if RawImage is not None:\n",
    "  ImageName = os.path.basename(os.path.splitext(RawImage)[0])\n",
    "  Raw = imread(RawImage).astype('float16')\n",
    "  \n",
    "else:\n",
    "  Raw = None   \n",
    "  ImageName = os.path.basename(os.path.splitext(SegmentationImage)[0])  \n",
    "if MaskImage is not None:\n",
    "    Mask = imread(MaskImage)\n",
    "else:\n",
    "    Mask = None\n",
    "    Mask = np.zeros_like(Seg) \n",
    "    Mask[:,:, 50:Mask.shape[2]-50, 50:Mask.shape[3]-50] = 1"
   ]
  },
  {
   "cell_type": "code",
   "execution_count": null,
   "metadata": {
    "scrolled": false
   },
   "outputs": [],
   "source": [
    "RegionID, VolumeID, locationID, Tracks, ID, StartID = ImportTrackmateXML(path_xml,Seg, image = Raw, Mask = Mask, mintracklength = mintracklength)\n",
    "#Scale T Z Y X\n",
    "scale = [1,2,1,1] \n",
    "totaltracks = len(Tracks)\n",
    "LiveTracks(Raw, Seg, Mask, savedir, scale, locationID, RegionID, VolumeID, ID, StartID)"
   ]
  },
  {
   "cell_type": "code",
   "execution_count": null,
   "metadata": {},
   "outputs": [],
   "source": []
  }
 ],
 "metadata": {
  "kernelspec": {
   "display_name": "Python [conda env:testenv] *",
   "language": "python",
   "name": "conda-env-testenv-py"
  },
  "language_info": {
   "codemirror_mode": {
    "name": "ipython",
    "version": 3
   },
   "file_extension": ".py",
   "mimetype": "text/x-python",
   "name": "python",
   "nbconvert_exporter": "python",
   "pygments_lexer": "ipython3",
   "version": "3.9.0"
  }
 },
 "nbformat": 4,
 "nbformat_minor": 2
}
