{
 "cells": [
  {
   "cell_type": "markdown",
   "metadata": {},
   "source": [
    "# Checkpoint Maker for Fiji BTrackMate and Python BTrack and Tracker\n",
    "\n",
    "In this notebook we create attributes of the segmented cells in 3D to create the csv file of cell properties compatiable with both Fiji BTrackMate and Python btrack. Two CSV fiels are saved (one for Fiji and other one for Python).\n",
    "\n",
    "The Fiji csv file has the headers:\n",
    "\n",
    "T X Y Z Label Perimeter (= Z * (X + Y)) Volume (= Z * X * Y) Intensity ExtentX ExtentY ExtentZ\n",
    "\n",
    "The Python csv file has the headers:\n",
    "\n",
    "t x y z\n"
   ]
  },
  {
   "cell_type": "code",
   "execution_count": 8,
   "metadata": {},
   "outputs": [],
   "source": [
    "import os\n",
    "from tifffile import imread\n",
    "from napatrackmater import CreateTrackCheckpoint\n",
    "from pathlib import Path"
   ]
  },
  {
   "cell_type": "code",
   "execution_count": 15,
   "metadata": {},
   "outputs": [],
   "source": [
    "ImageName = '/Users/aimachine/CellTracking/RAW.tif'\n",
    "SegImageName = '/Users/aimachine/CellTracking/SEG.tif'\n",
    "MaskImageName = None #'/home/kapoorlab/Claudia/105E_Day6_Mask.tif'\n",
    "savedir = '/Users/aimachine/CellTracking/'\n",
    "Name = os.path.basename(os.path.splitext(ImageName)[0])\n",
    "Path(savedir).mkdir(exist_ok = True)\n",
    "LoadImage = True"
   ]
  },
  {
   "cell_type": "code",
   "execution_count": 16,
   "metadata": {},
   "outputs": [
    {
     "name": "stdout",
     "output_type": "stream",
     "text": [
      "Reading Image\n",
      "Reading Segmentation Image\n"
     ]
    },
    {
     "name": "stderr",
     "output_type": "stream",
     "text": [
      "  1%|          | 2/177 [00:00<00:13, 13.26it/s]"
     ]
    },
    {
     "name": "stdout",
     "output_type": "stream",
     "text": [
      "Generating checkpoint CSV files for BTrackMate and bTrack\n",
      "Image has shape: (177, 50, 349, 639)\n",
      "Image Dimensions: 4\n"
     ]
    },
    {
     "name": "stderr",
     "output_type": "stream",
     "text": [
      "100%|██████████| 177/177 [00:18<00:00,  9.38it/s]\n"
     ]
    },
    {
     "data": {
      "text/plain": [
       "'/Users/aimachine/CellTracking//PythonbTrackCellsRAW.csv'"
      ]
     },
     "execution_count": 16,
     "metadata": {},
     "output_type": "execute_result"
    }
   ],
   "source": [
    "if LoadImage:\n",
    "  print('Reading Image')  \n",
    "  image = imread(ImageName)\n",
    "  print('Reading Segmentation Image')  \n",
    "  segimage = imread(SegImageName).astype('uint16')  \n",
    "else:\n",
    "  print('Reading Segmentation Image')  \n",
    "  segimage = imread(SegImageName).astype('uint16')   \n",
    "  image = segimage\n",
    "if MaskImageName is not None:\n",
    "    Mask = imread(MaskImageName)\n",
    "else:\n",
    "    Mask = None    \n",
    "print('Generating checkpoint CSV files for BTrackMate and bTrack')\n",
    "CreateTrackCheckpoint(image, segimage, Mask, Name, savedir)"
   ]
  },
  {
   "cell_type": "code",
   "execution_count": null,
   "metadata": {},
   "outputs": [],
   "source": []
  },
  {
   "cell_type": "code",
   "execution_count": null,
   "metadata": {},
   "outputs": [],
   "source": []
  }
 ],
 "metadata": {
  "kernelspec": {
   "display_name": "Python [conda env:tensorflowGPU]",
   "language": "python",
   "name": "conda-env-tensorflowGPU-py"
  },
  "language_info": {
   "codemirror_mode": {
    "name": "ipython",
    "version": 3
   },
   "file_extension": ".py",
   "mimetype": "text/x-python",
   "name": "python",
   "nbconvert_exporter": "python",
   "pygments_lexer": "ipython3",
   "version": "3.8.5"
  }
 },
 "nbformat": 4,
 "nbformat_minor": 4
}
