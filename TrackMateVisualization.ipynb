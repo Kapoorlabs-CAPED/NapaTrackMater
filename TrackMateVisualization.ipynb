{
 "cells": [
  {
   "cell_type": "code",
   "execution_count": 5,
   "metadata": {},
   "outputs": [],
   "source": [
    "import sys\n",
    "import numpy as np\n",
    "import os\n",
    "from tifffile import imread, imwrite\n",
    "import matplotlib.pyplot as plt\n",
    "import napari\n",
    "\n",
    "import napatrackmater.Trackmate as TM\n",
    "\n"
   ]
  },
  {
   "cell_type": "code",
   "execution_count": null,
   "metadata": {},
   "outputs": [],
   "source": [
    "#BTrackmate writes an XML file of tracks, we use it as input\n",
    "path_xml = '/Users/aimachine/1cell_Tracking/TrackMate.xml' \n",
    "\n",
    "#Path to Segmentation image for extracting any track information from labels \n",
    "SegmentationImage = '/Users/aimachine/1cell_Tracking/Cell_Tracking_Segmentation_Projection_FakeZ.tif'\n",
    "#Path to Raw image to display the tracks on (optional) else set it to None\n",
    "RawImage = '/Users/aimachine/1cell_Tracking/Tracking_Raw.tif'#'/Users/aimachine/CellTracking/Raw.tif' #'/run/media/kapoorlab/a16689d2-2f12-4219-9a7a-4e5a19b8f91a/GreenCells/ClaudiaTracking/GreenRaw_Timelapse_87E_Tomato_GFP.tif' \n",
    "MaskImage = '/Users/aimachine/1cell_Tracking/105E_Day6_Mask.tif' #'/home/kapoorlab/FakeDataTrack4D/Mask.tif'\n",
    "#Minimum time frames for a track to last, this is to remove the dangly segmentation mistakes\n",
    "mintracklength = 2\n",
    "#Directory for saving plots\n",
    "savedir = '/Users/aimachine/1cell_Tracking/'\n",
    "XYcalibration = 0.52\n",
    "Zcalibration = 3\n",
    "Tcalibration = 45"
   ]
  },
  {
   "cell_type": "code",
   "execution_count": null,
   "metadata": {},
   "outputs": [],
   "source": [
    "Seg = imread(SegmentationImage).astype('uint16')\n",
    "if RawImage is not None:\n",
    "  ImageName = os.path.basename(os.path.splitext(RawImage)[0])\n",
    "  Raw = imread(RawImage).astype('float16')\n",
    "  \n",
    "else:\n",
    "  Raw = None   \n",
    "  ImageName = os.path.basename(os.path.splitext(SegmentationImage)[0])  \n",
    "if MaskImage is not None:\n",
    "    Mask = imread(MaskImage)\n",
    "else:\n",
    "    Mask = None\n",
    "   "
   ]
  },
  {
   "cell_type": "code",
   "execution_count": null,
   "metadata": {
    "scrolled": false
   },
   "outputs": [],
   "source": [
    "RegionID, VolumeID, locationID, Tracks, ID, StartID = TM.ImportTrackmateXML(path_xml,Seg, image = Raw, Mask = Mask, XYcalibration = XYcalibration, Zcalibration = Zcalibration, Tcalibration = Tcalibration, mintracklength = mintracklength)\n",
    "#Scale T Z Y X\n",
    "scale = [1,2,1,1] \n",
    "totaltracks = len(Tracks)\n",
    "TM.TrackMateLiveTracks(Raw, Seg, Mask,savedir, scale, locationID, RegionID, VolumeID, ID, StartID, Tcalibration)"
   ]
  },
  {
   "cell_type": "code",
   "execution_count": null,
   "metadata": {},
   "outputs": [],
   "source": []
  },
  {
   "cell_type": "code",
   "execution_count": null,
   "metadata": {},
   "outputs": [],
   "source": []
  }
 ],
 "metadata": {
  "kernelspec": {
   "display_name": "Python [conda env:NapariTrack] *",
   "language": "python",
   "name": "conda-env-NapariTrack-py"
  },
  "language_info": {
   "codemirror_mode": {
    "name": "ipython",
    "version": 3
   },
   "file_extension": ".py",
   "mimetype": "text/x-python",
   "name": "python",
   "nbconvert_exporter": "python",
   "pygments_lexer": "ipython3",
   "version": "3.9.0"
  }
 },
 "nbformat": 4,
 "nbformat_minor": 2
}
